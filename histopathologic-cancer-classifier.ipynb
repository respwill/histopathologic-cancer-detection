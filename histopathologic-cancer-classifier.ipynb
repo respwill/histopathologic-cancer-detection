{
 "cells": [
  {
   "cell_type": "code",
   "execution_count": 22,
   "id": "1fd62a32",
   "metadata": {},
   "outputs": [],
   "source": [
    "import os\n",
    "import torch\n",
    "from torch import nn\n",
    "import torch.nn.functional as F\n",
    "from torch.utils.data import DataLoader, random_split, Dataset, Subset\n",
    "from torchvision import transforms, models\n",
    "import pytorch_lightning as pl\n",
    "from pytorch_lightning.utilities.model_summary import ModelSummary\n",
    "from PIL import Image\n",
    "import pandas as pd\n",
    "from sklearn.model_selection import train_test_split\n",
    "from torch.optim.lr_scheduler import ReduceLROnPlateau, CosineAnnealingLR\n",
    "import wandb"
   ]
  },
  {
   "cell_type": "code",
   "execution_count": 2,
   "id": "a4426dd0",
   "metadata": {},
   "outputs": [
    {
     "name": "stderr",
     "output_type": "stream",
     "text": [
      "\u001b[34m\u001b[1mwandb\u001b[0m: Currently logged in as: \u001b[33mrespwill\u001b[0m. Use \u001b[1m`wandb login --relogin`\u001b[0m to force relogin\n"
     ]
    },
    {
     "data": {
      "text/plain": []
     },
     "execution_count": 2,
     "metadata": {},
     "output_type": "execute_result"
    }
   ],
   "source": [
    "wandb.login()\n",
    "wandb.init(\n",
    "      mode='disabled',\n",
    "      # Set the project where this run will be logged\n",
    "      project=\"histopathologic-cancer-classifier\", \n",
    "      # We pass a run name (otherwise it’ll be randomly assigned, like sunshine-lollypop-10)\n",
    "      name=\"Test4\", \n",
    "      # Track hyperparameters and run metadata\n",
    "      config={\n",
    "      \"learning_rate\": 0.00005,\n",
    "      \"data_size\": 1,\n",
    "      })"
   ]
  },
  {
   "cell_type": "code",
   "execution_count": null,
   "id": "3213c7e6",
   "metadata": {},
   "outputs": [],
   "source": [
    "# backbone = models.resnet50(weights='DEFAULT')\n",
    "# num_filters = backbone.fc.in_features\n",
    "# layers = list(backbone.children())[:-1]\n",
    "# self.feature_extractor = nn.Sequential(*layers)\n",
    "# self.classifier = nn.Linear(num_filters, num_target_classes)"
   ]
  },
  {
   "cell_type": "code",
   "execution_count": 5,
   "id": "0b71d7f4",
   "metadata": {},
   "outputs": [],
   "source": [
    "class ImageEncoder(pl.LightningModule):\n",
    "    def __init__(self):\n",
    "        super().__init__()\n",
    "        self.encoder = nn.Sequential(\n",
    "            nn.Conv2d(in_channels=3, out_channels=5, kernel_size=3, stride=1),\n",
    "            nn.ReLU(),\n",
    "            nn.Dropout(0.25),\n",
    "            nn.Conv2d(in_channels=5, out_channels=7, kernel_size=5, stride=2),\n",
    "            nn.ReLU(),\n",
    "            nn.Dropout(0.25),\n",
    "#             nn.Conv2d(in_channels=20, out_channels=30, kernel_size=3, stride=2),\n",
    "#             nn.ReLU(),\n",
    "#             nn.MaxPool2d(kernel_size=3,stride=1),\n",
    "        )\n",
    "        # flatten and \n",
    "        self.dense = nn.Sequential(\n",
    "            nn.Linear(44180,3000),\n",
    "            nn.Dropout(0.25),\n",
    "#             nn.Linear(15000,3000),\n",
    "#             nn.Dropout(0.25),\n",
    "            nn.Linear(3000,200),\n",
    "            nn.Dropout(0.25),\n",
    "            nn.Linear(200,1)\n",
    "#             nn.Linear(500,100),\n",
    "#             nn.Linear(100,1)\n",
    "        )\n",
    "        \n",
    "#         self.fc2 = nn.Linear(13000,6000)\n",
    "#         self.fc3 = nn.Linear(6000,300)\n",
    "#         self.decoder = nn.Sequential(nn.Sigmoid())\n",
    "        \n",
    "    def forward(self, x):\n",
    "        x = self.encoder(x)\n",
    "        x = torch.flatten(x)\n",
    "        x = self.dense(x)\n",
    "        return torch.sigmoid(x)\n",
    "    \n",
    "    def training_step(self, batch, batch_idx):\n",
    "        x, y = batch\n",
    "        logits = self.forward(x)\n",
    "        y_hat = torch.argmax(logits)\n",
    "        loss = F.binary_cross_entropy(logits, y)\n",
    "        return {\"loss\":loss}\n",
    "    \n",
    "    def training_epoch_end(self, outputs):\n",
    "        avg_loss = torch.stack([x['loss'] for x in outputs]).mean()\n",
    "        self.log(\"train_loss\", avg_loss)\n",
    "        wandb.log({'train_loss': avg_loss, 'learning_rate': self.lr_schedulers().get_last_lr()[0]})\n",
    "    \n",
    "    def validation_step(self, batch, batch_idx):\n",
    "        x, y = batch\n",
    "        logits = self.forward(x)\n",
    "        y_hat = torch.argmax(logits)\n",
    "        val_loss = F.binary_cross_entropy(logits, y)\n",
    "        return {'val_loss':val_loss, 'y':y, 'y_hat':y_hat}\n",
    "    \n",
    "    def validation_epoch_end(self, outputs):\n",
    "        avg_loss = torch.stack([x['val_loss'] for x in outputs]).mean()\n",
    "        self.log(\"val_loss\", avg_loss)\n",
    "        wandb.log({'val_loss': avg_loss})\n",
    "        \n",
    "    def configure_optimizers(self):\n",
    "        optimizer = torch.optim.Adam(self.parameters(), lr=wandb.config['learning_rate'])\n",
    "        scheduler = CosineAnnealingLR(optimizer, T_max=100, eta_min=0.00001)\n",
    "        return [optimizer], [scheduler]"
   ]
  },
  {
   "cell_type": "code",
   "execution_count": 23,
   "id": "e8eee183",
   "metadata": {},
   "outputs": [],
   "source": [
    "class CancerDataset(Dataset):\n",
    "    def __init__(self, label_dir, img_dir):\n",
    "        self.img_labels = pd.read_csv(label_dir)\n",
    "        self.img_dir = img_dir\n",
    "        self.transform = transforms.ToTensor()\n",
    "    \n",
    "    def __len__(self):\n",
    "        return len(self.img_labels)\n",
    "    \n",
    "    def __getitem__(self, idx):\n",
    "        # label file has two columns: id, label\n",
    "        # to read each images from dir\n",
    "        img_path = self.img_dir + '/'+ self.img_labels.iloc[idx,0] + '.tif'\n",
    "        # read image as numpy array and normalize it\n",
    "        image = Image.open(img_path)\n",
    "        image_array = self.transform(image) / 255.0\n",
    "        \n",
    "        # read label\n",
    "        label = self.img_labels.iloc[idx,1].astype('float32')\n",
    "        \n",
    "        # return image array and label\n",
    "        return image_array, label"
   ]
  },
  {
   "cell_type": "code",
   "execution_count": 24,
   "id": "650ad227",
   "metadata": {},
   "outputs": [],
   "source": [
    "data = CancerDataset(label_dir=r'D://histopathologic-cancer-detection/train_labels_balance.csv',\n",
    "                          img_dir=r'D://histopathologic-cancer-detection/train')"
   ]
  },
  {
   "cell_type": "code",
   "execution_count": 25,
   "id": "7a508d00",
   "metadata": {},
   "outputs": [],
   "source": [
    "train_data = pd.read_csv(r'D://histopathologic-cancer-detection/train_labels.csv')"
   ]
  },
  {
   "cell_type": "code",
   "execution_count": 26,
   "id": "27e1440a",
   "metadata": {},
   "outputs": [],
   "source": [
    "train_n = int(len(data) * wandb.config['data_size'] * 0.7)\n",
    "val_n = int(len(data) * wandb.config['data_size'] * 0.3)"
   ]
  },
  {
   "cell_type": "code",
   "execution_count": 27,
   "id": "95e9c3b7",
   "metadata": {},
   "outputs": [
    {
     "data": {
      "text/plain": [
       "(37429, 16041)"
      ]
     },
     "execution_count": 27,
     "metadata": {},
     "output_type": "execute_result"
    }
   ],
   "source": [
    "train_n, val_n"
   ]
  },
  {
   "cell_type": "code",
   "execution_count": 28,
   "id": "4c5475a3",
   "metadata": {},
   "outputs": [],
   "source": [
    "def train_val_dataset(dataset, train_split=0.75, val_split=0.25):\n",
    "    train_idx, val_idx = train_test_split(list(range(len(dataset))), train_size=train_split, test_size=val_split)\n",
    "    datasets = {}\n",
    "    datasets['train'] = Subset(dataset, train_idx)\n",
    "    datasets['val'] = Subset(dataset, val_idx)\n",
    "    return datasets"
   ]
  },
  {
   "cell_type": "code",
   "execution_count": 29,
   "id": "dfaabc88",
   "metadata": {},
   "outputs": [],
   "source": [
    "dataset = train_val_dataset(data, train_split=train_n, val_split=val_n)"
   ]
  },
  {
   "cell_type": "code",
   "execution_count": 30,
   "id": "cbfb0ba8",
   "metadata": {},
   "outputs": [],
   "source": [
    "train_dataloader = DataLoader(dataset['train'])\n",
    "val_dataloader = DataLoader(dataset['val'])"
   ]
  },
  {
   "cell_type": "code",
   "execution_count": 13,
   "id": "44b07bda",
   "metadata": {},
   "outputs": [],
   "source": [
    "im_encoder = ImageEncoder()"
   ]
  },
  {
   "cell_type": "code",
   "execution_count": 14,
   "id": "0ac74475",
   "metadata": {},
   "outputs": [
    {
     "data": {
      "text/plain": [
       "  | Name      | Type       | Params\n",
       "-----------------------------------------\n",
       "0 | encoder   | Sequential | 140   \n",
       "1 | encoder.0 | Conv2d     | 140   \n",
       "2 | encoder.1 | ReLU       | 0     \n",
       "3 | encoder.2 | Dropout    | 0     \n",
       "4 | dense     | Sequential | 133 M \n",
       "5 | dense.0   | Linear     | 132 M \n",
       "6 | dense.1   | Dropout    | 0     \n",
       "7 | dense.2   | Linear     | 600 K \n",
       "8 | dense.3   | Dropout    | 0     \n",
       "9 | dense.4   | Linear     | 201   \n",
       "-----------------------------------------\n",
       "133 M     Trainable params\n",
       "0         Non-trainable params\n",
       "133 M     Total params\n",
       "532.574   Total estimated model params size (MB)"
      ]
     },
     "execution_count": 14,
     "metadata": {},
     "output_type": "execute_result"
    }
   ],
   "source": [
    "ModelSummary(im_encoder, max_depth=-1)"
   ]
  },
  {
   "cell_type": "code",
   "execution_count": 15,
   "id": "a0b8c0f8",
   "metadata": {},
   "outputs": [],
   "source": [
    "checkpoint_callback = pl.callbacks.ModelCheckpoint(\n",
    "    dirpath='D://histopathologic-cancer-detection/trained_model', filename='{epoch}-{train_loss:.4f}-{val_loss:.4f}', \n",
    "    monitor=\"val_loss\", mode=\"min\", save_top_k=5\n",
    ")"
   ]
  },
  {
   "cell_type": "code",
   "execution_count": 16,
   "id": "aa4f9d64",
   "metadata": {},
   "outputs": [
    {
     "name": "stderr",
     "output_type": "stream",
     "text": [
      "GPU available: True (cuda), used: True\n",
      "TPU available: False, using: 0 TPU cores\n",
      "IPU available: False, using: 0 IPUs\n",
      "HPU available: False, using: 0 HPUs\n"
     ]
    }
   ],
   "source": [
    "trainer = pl.Trainer(accelerator='gpu',\n",
    "                    max_epochs=200,\n",
    "                    callbacks=[checkpoint_callback])"
   ]
  },
  {
   "cell_type": "code",
   "execution_count": 17,
   "id": "bb58d98e",
   "metadata": {},
   "outputs": [
    {
     "name": "stderr",
     "output_type": "stream",
     "text": [
      "LOCAL_RANK: 0 - CUDA_VISIBLE_DEVICES: [0]\n",
      "\n",
      "  | Name    | Type       | Params\n",
      "---------------------------------------\n",
      "0 | encoder | Sequential | 140   \n",
      "1 | dense   | Sequential | 133 M \n",
      "---------------------------------------\n",
      "133 M     Trainable params\n",
      "0         Non-trainable params\n",
      "133 M     Total params\n",
      "532.574   Total estimated model params size (MB)\n"
     ]
    },
    {
     "data": {
      "application/vnd.jupyter.widget-view+json": {
       "model_id": "",
       "version_major": 2,
       "version_minor": 0
      },
      "text/plain": [
       "Sanity Checking: 0it [00:00, ?it/s]"
      ]
     },
     "metadata": {},
     "output_type": "display_data"
    },
    {
     "name": "stderr",
     "output_type": "stream",
     "text": [
      "C:\\Users\\jaydenpark\\Anaconda3\\envs\\RL\\lib\\site-packages\\pytorch_lightning\\trainer\\connectors\\data_connector.py:224: PossibleUserWarning: The dataloader, val_dataloader 0, does not have many workers which may be a bottleneck. Consider increasing the value of the `num_workers` argument` (try 8 which is the number of cpus on this machine) in the `DataLoader` init to improve performance.\n",
      "  rank_zero_warn(\n",
      "C:\\Users\\jaydenpark\\Anaconda3\\envs\\RL\\lib\\site-packages\\pytorch_lightning\\trainer\\connectors\\data_connector.py:224: PossibleUserWarning: The dataloader, train_dataloader, does not have many workers which may be a bottleneck. Consider increasing the value of the `num_workers` argument` (try 8 which is the number of cpus on this machine) in the `DataLoader` init to improve performance.\n",
      "  rank_zero_warn(\n"
     ]
    },
    {
     "data": {
      "application/vnd.jupyter.widget-view+json": {
       "model_id": "40ae313ed37b44459df9667f51214b0e",
       "version_major": 2,
       "version_minor": 0
      },
      "text/plain": [
       "Training: 0it [00:00, ?it/s]"
      ]
     },
     "metadata": {},
     "output_type": "display_data"
    },
    {
     "name": "stderr",
     "output_type": "stream",
     "text": [
      "C:\\Users\\jaydenpark\\Anaconda3\\envs\\RL\\lib\\site-packages\\pytorch_lightning\\trainer\\call.py:48: UserWarning: Detected KeyboardInterrupt, attempting graceful shutdown...\n",
      "  rank_zero_warn(\"Detected KeyboardInterrupt, attempting graceful shutdown...\")\n"
     ]
    }
   ],
   "source": [
    "trainer.fit(im_encoder, train_dataloader, val_dataloader)"
   ]
  }
 ],
 "metadata": {
  "kernelspec": {
   "display_name": "Python 3",
   "language": "python",
   "name": "python3"
  },
  "language_info": {
   "codemirror_mode": {
    "name": "ipython",
    "version": 3
   },
   "file_extension": ".py",
   "mimetype": "text/x-python",
   "name": "python",
   "nbconvert_exporter": "python",
   "pygments_lexer": "ipython3",
   "version": "3.8.10"
  },
  "varInspector": {
   "cols": {
    "lenName": 16,
    "lenType": 16,
    "lenVar": 40
   },
   "kernels_config": {
    "python": {
     "delete_cmd_postfix": "",
     "delete_cmd_prefix": "del ",
     "library": "var_list.py",
     "varRefreshCmd": "print(var_dic_list())"
    },
    "r": {
     "delete_cmd_postfix": ") ",
     "delete_cmd_prefix": "rm(",
     "library": "var_list.r",
     "varRefreshCmd": "cat(var_dic_list()) "
    }
   },
   "types_to_exclude": [
    "module",
    "function",
    "builtin_function_or_method",
    "instance",
    "_Feature"
   ],
   "window_display": false
  }
 },
 "nbformat": 4,
 "nbformat_minor": 5
}
