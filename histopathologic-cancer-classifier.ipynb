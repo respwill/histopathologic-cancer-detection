{
 "cells": [
  {
   "cell_type": "code",
   "execution_count": 1,
   "id": "1fd62a32",
   "metadata": {},
   "outputs": [
    {
     "name": "stderr",
     "output_type": "stream",
     "text": [
      "C:\\Users\\jaydenpark\\Anaconda3\\envs\\RL\\lib\\site-packages\\scipy\\__init__.py:138: UserWarning: A NumPy version >=1.16.5 and <1.23.0 is required for this version of SciPy (detected version 1.23.4)\n",
      "  warnings.warn(f\"A NumPy version >={np_minversion} and <{np_maxversion} is required for this version of \"\n"
     ]
    }
   ],
   "source": [
    "import os\n",
    "import torch\n",
    "from torch import nn\n",
    "import torch.nn.functional as F\n",
    "from torch.utils.data import DataLoader, random_split, Dataset, Subset\n",
    "from torchvision import transforms, models\n",
    "import pytorch_lightning as pl\n",
    "from pytorch_lightning.utilities.model_summary import ModelSummary\n",
    "from PIL import Image\n",
    "import pandas as pd\n",
    "from sklearn.model_selection import train_test_split\n",
    "from torch.optim.lr_scheduler import ReduceLROnPlateau, CosineAnnealingLR\n",
    "import wandb\n",
    "import torchmetrics"
   ]
  },
  {
   "cell_type": "code",
   "execution_count": 2,
   "id": "a4426dd0",
   "metadata": {},
   "outputs": [
    {
     "name": "stderr",
     "output_type": "stream",
     "text": [
      "\u001b[34m\u001b[1mwandb\u001b[0m: Currently logged in as: \u001b[33mrespwill\u001b[0m. Use \u001b[1m`wandb login --relogin`\u001b[0m to force relogin\n"
     ]
    },
    {
     "data": {
      "text/plain": []
     },
     "execution_count": 2,
     "metadata": {},
     "output_type": "execute_result"
    }
   ],
   "source": [
    "wandb.login()\n",
    "wandb.init(\n",
    "      mode='disabled',\n",
    "      # Set the project where this run will be logged\n",
    "      project=\"histopathologic-cancer-classifier\", \n",
    "      # We pass a run name (otherwise it’ll be randomly assigned, like sunshine-lollypop-10)\n",
    "      name=\"Test4\", \n",
    "      # Track hyperparameters and run metadata\n",
    "      config={\n",
    "      \"learning_rate\": 0.01,\n",
    "      \"data_size\": 1,\n",
    "      })"
   ]
  },
  {
   "cell_type": "code",
   "execution_count": 3,
   "id": "5311a0cd",
   "metadata": {},
   "outputs": [],
   "source": [
    "# backbone = models.resnet50(weights='DEFAULT')\n",
    "# num_filters = backbone.fc.in_features\n",
    "# layers = list(backbone.children())[:-1]\n",
    "# self.feature_extractor = nn.Sequential(*layers)\n",
    "# self.classifier = nn.Linear(num_filters, num_target_classes)"
   ]
  },
  {
   "cell_type": "code",
   "execution_count": 4,
   "id": "0b71d7f4",
   "metadata": {},
   "outputs": [],
   "source": [
    "class ImageEncoder(pl.LightningModule):\n",
    "    def __init__(self):\n",
    "        super().__init__()\n",
    "        self.encoder = nn.Sequential(\n",
    "            nn.Conv2d(in_channels=3, out_channels=5, kernel_size=3, stride=2),\n",
    "            nn.ReLU(),\n",
    "#             nn.BatchNorm2d(),\n",
    "#             nn.Dropout(0.25),\n",
    "            nn.Conv2d(in_channels=5, out_channels=7, kernel_size=5, stride=2),\n",
    "            nn.ReLU(),\n",
    "#             nn.BatchNorm2d(),\n",
    "#             nn.Dropout(0.25),\n",
    "            nn.Conv2d(in_channels=7, out_channels=10, kernel_size=3, stride=2),\n",
    "            nn.ReLU(),\n",
    "#             nn.BatchNorm2d(),\n",
    "#             nn.Dropout(0.25)\n",
    "#             nn.MaxPool2d(kernel_size=3,stride=1),\n",
    "        )\n",
    "        n_sizes = self._get_conv_output((3,96,96))\n",
    "        # flatten and \n",
    "        self.dense = nn.Sequential(\n",
    "            nn.Linear(n_sizes,3000),\n",
    "#             nn.Dropout(0.25),\n",
    "#             nn.Linear(15000,3000),\n",
    "#             nn.Dropout(0.25),\n",
    "            nn.Linear(3000,200),\n",
    "#             nn.Dropout(0.25),\n",
    "            nn.Linear(200,1)\n",
    "#             nn.Linear(500,100),\n",
    "#             nn.Linear(100,1)\n",
    "        )\n",
    "        \n",
    "#         self.fc2 = nn.Linear(13000,6000)\n",
    "#         self.fc3 = nn.Linear(6000,300)\n",
    "#         self.decoder = nn.Sequential(nn.Sigmoid())\n",
    "        self.accuracy = torchmetrics.Accuracy(task='binary')\n",
    "    \n",
    "    def forward(self, x):\n",
    "        x = self.encoder(x)\n",
    "        x = torch.flatten(x)\n",
    "        x = self.dense(x)\n",
    "        return torch.sigmoid(x)\n",
    "    \n",
    "    def training_step(self, batch, batch_idx):\n",
    "        x, y = batch\n",
    "        y_hat = self.forward(x)\n",
    "        pred = torch.argmax(y_hat)\n",
    "        loss = F.binary_cross_entropy(y_hat, y)\n",
    "        sch = self.lr_schedulers()\n",
    "        sch.step()\n",
    "        return {\"loss\":loss, 'pred':pred, 'y':y[0]}\n",
    "    \n",
    "    def training_epoch_end(self, outputs):\n",
    "        avg_loss = torch.stack([x['loss'] for x in outputs]).mean()\n",
    "        pred = torch.stack([x['pred'] for x in outputs]).to(device=torch.device('cuda'))\n",
    "        y = torch.stack([x['y'] for x in outputs])\n",
    "        avg_acc = self.accuracy(pred, y)\n",
    "        self.log(\"train_loss\", avg_loss, prog_bar=True)\n",
    "        self.log(\"train_acc\", avg_acc, prog_bar=True)\n",
    "        wandb.log({'train_loss': avg_loss, 'learning_rate': self.lr_schedulers().get_last_lr()[0], 'train_acc':avg_acc})\n",
    "    \n",
    "    def validation_step(self, batch, batch_idx):\n",
    "        x, y = batch\n",
    "        y_hat = self.forward(x)\n",
    "        pred = torch.argmax(logits)\n",
    "        val_loss = F.binary_cross_entropy(y_hat, y)\n",
    "        return {'val_loss':val_loss,'pred':pred, 'y':y[0]}\n",
    "    \n",
    "    def validation_epoch_end(self, outputs):\n",
    "        avg_loss = torch.stack([x['val_loss'] for x in outputs]).mean()\n",
    "        y_hat = torch.stack([x['pred'] for x in outputs]).to(device=torch.device('cuda'))\n",
    "        y = torch.stack([x['y'] for x in outputs])\n",
    "        avg_acc = self.accuracy(y_hat, y)\n",
    "        self.log(\"val_loss\", avg_loss, prog_bar=True)\n",
    "        self.log(\"val_acc\", avg_acc, prog_bar=True)\n",
    "        wandb.log({'val_loss': avg_loss, 'val_acc':avg_acc})\n",
    "        \n",
    "    def configure_optimizers(self):\n",
    "        optimizer = torch.optim.Adam(self.parameters(), lr=wandb.config['learning_rate'])\n",
    "        scheduler = CosineAnnealingLR(optimizer, T_max=100, eta_min=0.00001)\n",
    "        return [optimizer], [scheduler]\n",
    "    \n",
    "    def _get_conv_output(self, shape):\n",
    "        batch_size = 1\n",
    "        input = torch.autograd.Variable(torch.rand(batch_size, *shape))\n",
    "\n",
    "\n",
    "        output_feat = self.encoder(input) \n",
    "        n_size = output_feat.data.view(batch_size, -1).size(1)\n",
    "        return n_size\n"
   ]
  },
  {
   "cell_type": "code",
   "execution_count": 5,
   "id": "e8eee183",
   "metadata": {},
   "outputs": [],
   "source": [
    "class CancerDataset(Dataset):\n",
    "    def __init__(self, label_dir, img_dir):\n",
    "        self.img_labels = pd.read_csv(label_dir)\n",
    "        self.img_dir = img_dir\n",
    "        self.transform = transforms.ToTensor()\n",
    "    \n",
    "    def __len__(self):\n",
    "        return len(self.img_labels)\n",
    "    \n",
    "    def __getitem__(self, idx):\n",
    "        # label file has two columns: id, label\n",
    "        # to read each images from dir\n",
    "        img_path = self.img_dir + '/'+ self.img_labels.iloc[idx,0] + '.tif'\n",
    "        # read image as numpy array and normalize it\n",
    "        image = Image.open(img_path)\n",
    "        image_array = self.transform(image) / 255.0\n",
    "        \n",
    "        # read label\n",
    "        label = self.img_labels.iloc[idx,1].astype('float32')\n",
    "        \n",
    "        # return image array and label\n",
    "        return image_array, label"
   ]
  },
  {
   "cell_type": "code",
   "execution_count": 6,
   "id": "650ad227",
   "metadata": {},
   "outputs": [],
   "source": [
    "data = CancerDataset(label_dir=r'D://histopathologic-cancer-detection/train_labels_balance.csv',\n",
    "                          img_dir=r'D://histopathologic-cancer-detection/train')"
   ]
  },
  {
   "cell_type": "code",
   "execution_count": 7,
   "id": "243a7594",
   "metadata": {},
   "outputs": [],
   "source": [
    "train_data = pd.read_csv(r'D://histopathologic-cancer-detection/train_labels.csv')"
   ]
  },
  {
   "cell_type": "code",
   "execution_count": 8,
   "id": "27e1440a",
   "metadata": {},
   "outputs": [],
   "source": [
    "train_n = int(len(data) * wandb.config['data_size'] * 0.7)\n",
    "val_n = int(len(data) * wandb.config['data_size'] * 0.3)"
   ]
  },
  {
   "cell_type": "code",
   "execution_count": 9,
   "id": "95e9c3b7",
   "metadata": {},
   "outputs": [
    {
     "data": {
      "text/plain": [
       "(124763, 53470)"
      ]
     },
     "execution_count": 9,
     "metadata": {},
     "output_type": "execute_result"
    }
   ],
   "source": [
    "train_n, val_n"
   ]
  },
  {
   "cell_type": "code",
   "execution_count": 10,
   "id": "4c5475a3",
   "metadata": {},
   "outputs": [],
   "source": [
    "def train_val_dataset(dataset, train_split=0.75, val_split=0.25):\n",
    "    train_idx, val_idx = train_test_split(list(range(len(dataset))), train_size=train_split, test_size=val_split)\n",
    "    datasets = {}\n",
    "    datasets['train'] = Subset(dataset, train_idx)\n",
    "    datasets['val'] = Subset(dataset, val_idx)\n",
    "    return datasets"
   ]
  },
  {
   "cell_type": "code",
   "execution_count": 11,
   "id": "dfaabc88",
   "metadata": {},
   "outputs": [],
   "source": [
    "dataset = train_val_dataset(data, train_split=train_n, val_split=val_n)"
   ]
  },
  {
   "cell_type": "code",
   "execution_count": 12,
   "id": "cbfb0ba8",
   "metadata": {},
   "outputs": [],
   "source": [
    "train_dataloader = DataLoader(dataset['train'])\n",
    "val_dataloader = DataLoader(dataset['val'])"
   ]
  },
  {
   "cell_type": "code",
   "execution_count": 13,
   "id": "44b07bda",
   "metadata": {},
   "outputs": [],
   "source": [
    "im_encoder = ImageEncoder()"
   ]
  },
  {
   "cell_type": "code",
   "execution_count": 14,
   "id": "0ac74475",
   "metadata": {},
   "outputs": [
    {
     "data": {
      "text/plain": [
       "   | Name      | Type           | Params\n",
       "----------------------------------------------\n",
       "0  | encoder   | Sequential     | 1.7 K \n",
       "1  | encoder.0 | Conv2d         | 140   \n",
       "2  | encoder.1 | ReLU           | 0     \n",
       "3  | encoder.2 | Conv2d         | 882   \n",
       "4  | encoder.3 | ReLU           | 0     \n",
       "5  | encoder.4 | Conv2d         | 640   \n",
       "6  | encoder.5 | ReLU           | 0     \n",
       "7  | dense     | Sequential     | 3.6 M \n",
       "8  | dense.0   | Linear         | 3.0 M \n",
       "9  | dense.1   | Linear         | 600 K \n",
       "10 | dense.2   | Linear         | 201   \n",
       "11 | accuracy  | BinaryAccuracy | 0     \n",
       "----------------------------------------------\n",
       "3.6 M     Trainable params\n",
       "0         Non-trainable params\n",
       "3.6 M     Total params\n",
       "14.420    Total estimated model params size (MB)"
      ]
     },
     "execution_count": 14,
     "metadata": {},
     "output_type": "execute_result"
    }
   ],
   "source": [
    "ModelSummary(im_encoder, max_depth=-1)"
   ]
  },
  {
   "cell_type": "code",
   "execution_count": 15,
   "id": "a0b8c0f8",
   "metadata": {},
   "outputs": [],
   "source": [
    "checkpoint_callback = pl.callbacks.ModelCheckpoint(\n",
    "    dirpath='D://histopathologic-cancer-detection/trained_model', filename='{epoch}-{train_loss:.4f}-{val_loss:.4f}', \n",
    "    monitor=\"val_loss\", mode=\"min\", save_top_k=5\n",
    ")"
   ]
  },
  {
   "cell_type": "code",
   "execution_count": 16,
   "id": "aa4f9d64",
   "metadata": {},
   "outputs": [
    {
     "name": "stderr",
     "output_type": "stream",
     "text": [
      "GPU available: True (cuda), used: True\n",
      "TPU available: False, using: 0 TPU cores\n",
      "IPU available: False, using: 0 IPUs\n",
      "HPU available: False, using: 0 HPUs\n"
     ]
    }
   ],
   "source": [
    "trainer = pl.Trainer(accelerator='gpu',\n",
    "                    max_epochs=200,\n",
    "                    callbacks=[checkpoint_callback])"
   ]
  },
  {
   "cell_type": "code",
   "execution_count": null,
   "id": "bb58d98e",
   "metadata": {},
   "outputs": [
    {
     "name": "stderr",
     "output_type": "stream",
     "text": [
      "LOCAL_RANK: 0 - CUDA_VISIBLE_DEVICES: [0]\n",
      "\n",
      "  | Name     | Type           | Params\n",
      "--------------------------------------------\n",
      "0 | encoder  | Sequential     | 1.7 K \n",
      "1 | dense    | Sequential     | 3.6 M \n",
      "2 | accuracy | BinaryAccuracy | 0     \n",
      "--------------------------------------------\n",
      "3.6 M     Trainable params\n",
      "0         Non-trainable params\n",
      "3.6 M     Total params\n",
      "14.420    Total estimated model params size (MB)\n"
     ]
    },
    {
     "data": {
      "application/vnd.jupyter.widget-view+json": {
       "model_id": "",
       "version_major": 2,
       "version_minor": 0
      },
      "text/plain": [
       "Sanity Checking: 0it [00:00, ?it/s]"
      ]
     },
     "metadata": {},
     "output_type": "display_data"
    },
    {
     "name": "stderr",
     "output_type": "stream",
     "text": [
      "C:\\Users\\jaydenpark\\Anaconda3\\envs\\RL\\lib\\site-packages\\pytorch_lightning\\trainer\\connectors\\data_connector.py:224: PossibleUserWarning: The dataloader, val_dataloader 0, does not have many workers which may be a bottleneck. Consider increasing the value of the `num_workers` argument` (try 8 which is the number of cpus on this machine) in the `DataLoader` init to improve performance.\n",
      "  rank_zero_warn(\n",
      "C:\\Users\\jaydenpark\\Anaconda3\\envs\\RL\\lib\\site-packages\\pytorch_lightning\\trainer\\connectors\\data_connector.py:224: PossibleUserWarning: The dataloader, train_dataloader, does not have many workers which may be a bottleneck. Consider increasing the value of the `num_workers` argument` (try 8 which is the number of cpus on this machine) in the `DataLoader` init to improve performance.\n",
      "  rank_zero_warn(\n"
     ]
    },
    {
     "data": {
      "application/vnd.jupyter.widget-view+json": {
       "model_id": "776e99d7ff4c437da9c4bea6f90b8f1e",
       "version_major": 2,
       "version_minor": 0
      },
      "text/plain": [
       "Training: 0it [00:00, ?it/s]"
      ]
     },
     "metadata": {},
     "output_type": "display_data"
    }
   ],
   "source": [
    "trainer.fit(im_encoder, train_dataloader, val_dataloader)"
   ]
  }
 ],
 "metadata": {
  "kernelspec": {
   "display_name": "Python 3",
   "language": "python",
   "name": "python3"
  },
  "language_info": {
   "codemirror_mode": {
    "name": "ipython",
    "version": 3
   },
   "file_extension": ".py",
   "mimetype": "text/x-python",
   "name": "python",
   "nbconvert_exporter": "python",
   "pygments_lexer": "ipython3",
   "version": "3.8.10"
  },
  "varInspector": {
   "cols": {
    "lenName": 16,
    "lenType": 16,
    "lenVar": 40
   },
   "kernels_config": {
    "python": {
     "delete_cmd_postfix": "",
     "delete_cmd_prefix": "del ",
     "library": "var_list.py",
     "varRefreshCmd": "print(var_dic_list())"
    },
    "r": {
     "delete_cmd_postfix": ") ",
     "delete_cmd_prefix": "rm(",
     "library": "var_list.r",
     "varRefreshCmd": "cat(var_dic_list()) "
    }
   },
   "types_to_exclude": [
    "module",
    "function",
    "builtin_function_or_method",
    "instance",
    "_Feature"
   ],
   "window_display": false
  }
 },
 "nbformat": 4,
 "nbformat_minor": 5
}
