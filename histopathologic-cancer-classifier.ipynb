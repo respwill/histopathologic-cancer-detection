{
 "cells": [
  {
   "cell_type": "code",
   "execution_count": 1,
   "id": "1fd62a32",
   "metadata": {},
   "outputs": [],
   "source": [
    "import os\n",
    "import torch\n",
    "from torch import nn\n",
    "import torch.nn.functional as F\n",
    "from torch.utils.data import DataLoader, random_split, Dataset, Subset\n",
    "from torchvision import transforms, models\n",
    "import pytorch_lightning as pl\n",
    "from pytorch_lightning.utilities.model_summary import ModelSummary\n",
    "from pytorch_lightning.loggers import WandbLogger\n",
    "from PIL import Image\n",
    "import pandas as pd\n",
    "from sklearn.model_selection import train_test_split\n",
    "from torch.optim.lr_scheduler import ReduceLROnPlateau, CosineAnnealingLR\n",
    "import wandb\n",
    "import torchmetrics"
   ]
  },
  {
   "cell_type": "code",
   "execution_count": 2,
   "id": "0b71d7f4",
   "metadata": {},
   "outputs": [],
   "source": [
    "class ImageEncoder(pl.LightningModule):\n",
    "    def __init__(self, input_shape, num_classes, learning_rate=2e-4):\n",
    "        super().__init__()\n",
    "        \n",
    "        self.save_hyperparameters()\n",
    "        self.learning_rate = learning_rate\n",
    "        \n",
    "        self.encoder = nn.Sequential(\n",
    "            nn.Conv2d(in_channels=3, out_channels=6, kernel_size=5, stride=1),\n",
    "            nn.ReLU(),\n",
    "            nn.MaxPool2d(kernel_size=2, stride=2),\n",
    "            \n",
    "            nn.Conv2d(in_channels=6, out_channels=16, kernel_size=5, stride=1),\n",
    "            nn.ReLU(),\n",
    "            nn.MaxPool2d(kernel_size=2, stride=2),\n",
    "            \n",
    "            nn.Conv2d(in_channels=16, out_channels=32, kernel_size=5, stride=1),\n",
    "            nn.ReLU(),\n",
    "            nn.MaxPool2d(kernel_size=2, stride=2)\n",
    "        )\n",
    "        n_sizes = self._get_conv_output((3,96,96))\n",
    "        \n",
    "        self.dense = nn.Sequential(\n",
    "            nn.Flatten(),\n",
    "            nn.Linear(n_sizes, 240),\n",
    "            nn.ReLU(),\n",
    "            nn.Linear(240, 120),\n",
    "            nn.ReLU(),\n",
    "            nn.Linear(120, 80),\n",
    "            nn.ReLU(),\n",
    "            nn.Linear(80, 1)\n",
    "        )\n",
    "        \n",
    "        self.accuracy = torchmetrics.Accuracy(task='binary')\n",
    "    \n",
    "    def forward(self, x):\n",
    "        x = self.encoder(x)\n",
    "        x = self.dense(x)\n",
    "        return torch.sigmoid(x)\n",
    "    \n",
    "    def training_step(self, batch, batch_idx):\n",
    "        x, y = batch\n",
    "        y_hat = self(x)\n",
    "        loss = F.binary_cross_entropy(y_hat, y)\n",
    "        pred = y_hat.round()\n",
    "        return {\"loss\":loss, 'pred':pred, 'y':y}\n",
    "    \n",
    "    def training_epoch_end(self, outputs):\n",
    "        avg_loss = torch.stack([x['loss'] for x in outputs]).mean()\n",
    "        pred = torch.cat([x['pred'] for x in outputs]).to(device=torch.device('cuda'))\n",
    "        y = torch.cat([x['y'] for x in outputs]).to(torch.int32)\n",
    "        y = torch.squeeze(y)\n",
    "        \n",
    "        pred = torch.flatten(pred)\n",
    "        y = torch.flatten(y)\n",
    "        \n",
    "        avg_acc = self.accuracy(pred, y)\n",
    "        self.log(\"train_loss\", avg_loss, prog_bar=True, on_epoch=True)\n",
    "        self.log(\"train_acc\", avg_acc, prog_bar=True, on_epoch=True)\n",
    "#         wandb.log({'train_loss': avg_loss, 'train_acc':avg_acc})\n",
    "    \n",
    "    def validation_step(self, batch, batch_idx):\n",
    "        x, y = batch\n",
    "        y_hat = self(x)\n",
    "        pred = y_hat.round()\n",
    "        val_loss = F.binary_cross_entropy(y_hat, y)\n",
    "        return {'val_loss':val_loss,'pred':pred, 'y':y}\n",
    "    \n",
    "    def validation_epoch_end(self, outputs):\n",
    "        avg_loss = torch.stack([x['val_loss'] for x in outputs]).mean()\n",
    "\n",
    "        pred = torch.cat([x['pred'] for x in outputs]).to(device=torch.device('cuda'))\n",
    "        y = torch.cat([x['y'] for x in outputs]).to(torch.int32)\n",
    "        y = torch.squeeze(y)\n",
    "        \n",
    "        pred = torch.flatten(pred)\n",
    "        y = torch.flatten(y)\n",
    "\n",
    "        avg_acc = self.accuracy(pred, y).item()\n",
    "        self.log(\"val_loss\", avg_loss, prog_bar=True, on_epoch=True)\n",
    "        self.log(\"val_acc\", avg_acc, prog_bar=True, on_epoch=True)\n",
    "#         wandb.log({'val_loss': avg_loss, 'val_acc':avg_acc})\n",
    "        \n",
    "    def configure_optimizers(self):\n",
    "        optimizer = torch.optim.Adam(self.parameters(), lr=self.learning_rate)\n",
    "        scheduler = CosineAnnealingLR(optimizer, T_max=100, eta_min=0.00001)\n",
    "        return [optimizer], [scheduler]\n",
    "    \n",
    "    def optimizer_step(self,\n",
    "                     epoch=None, \n",
    "                    batch_idx=None, \n",
    "                    optimizer=None, \n",
    "                    optimizer_idx=None, \n",
    "                    optimizer_closure=None, \n",
    "                    on_tpu=None, \n",
    "                    using_native_amp=None, \n",
    "                    using_lbfgs=None\n",
    "                     ):\n",
    "        optimizer.step(closure=optimizer_closure)\n",
    "        optimizer.zero_grad()\n",
    "#         self.lr_scheduler.step()\n",
    "    \n",
    "    def _get_conv_output(self, shape):\n",
    "        batch_size = 1\n",
    "        input = torch.autograd.Variable(torch.rand(batch_size, *shape))\n",
    "        output_feat = self.encoder(input) \n",
    "        n_size = output_feat.data.view(batch_size, -1).size(1)\n",
    "        return n_size\n",
    "    \n"
   ]
  },
  {
   "cell_type": "code",
   "execution_count": 3,
   "id": "e8eee183",
   "metadata": {},
   "outputs": [],
   "source": [
    "class CancerDataset(Dataset):\n",
    "    def __init__(self, label_dir, img_dir, transform=None):\n",
    "        self.img_labels = pd.read_csv(label_dir)\n",
    "        self.img_dir = img_dir\n",
    "        self.transform = transform\n",
    "    \n",
    "    def __len__(self):\n",
    "        return len(self.img_labels)\n",
    "    \n",
    "    def __getitem__(self, idx):\n",
    "        # label file has two columns: id, label\n",
    "        # to read each images from dir\n",
    "        img_path = self.img_dir + '/'+ self.img_labels.iloc[idx,0] + '.tif'\n",
    "        # read image as numpy array and normalize it\n",
    "        image = Image.open(img_path)\n",
    "#         image_array = self.transform(image) / 255.0\n",
    "        image_array = self.transform(image)\n",
    "        \n",
    "        # read label\n",
    "        label = self.img_labels.iloc[idx, 1].astype('float32')\n",
    "        label = torch.Tensor([label])\n",
    "        # return image array and label\n",
    "        return image_array, label"
   ]
  },
  {
   "cell_type": "code",
   "execution_count": 4,
   "id": "91138342",
   "metadata": {},
   "outputs": [],
   "source": [
    "def train_val_dataset(dataset, train_split=0.75, val_split=0.25):\n",
    "    train_idx, val_idx = train_test_split(list(range(len(dataset))), train_size=train_split, test_size=val_split)\n",
    "    datasets = {}\n",
    "    datasets['train'] = Subset(dataset, train_idx)\n",
    "    datasets['val'] = Subset(dataset, val_idx)\n",
    "    return datasets"
   ]
  },
  {
   "cell_type": "code",
   "execution_count": 5,
   "id": "d5cce77e",
   "metadata": {},
   "outputs": [],
   "source": [
    "class DataModule(pl.LightningDataModule):\n",
    "    def __init__(self, batch_size, label_dir, img_dir):\n",
    "        super().__init__()\n",
    "        self.batch_size = batch_size\n",
    "        self.dims = (3, 96, 96)\n",
    "        self.num_classes = 1\n",
    "        self.label_dir = label_dir\n",
    "        self.img_dir = img_dir\n",
    "        self.transform = transforms.Compose([\n",
    "           transforms.RandomHorizontalFlip(),\n",
    "           transforms.ToTensor(),\n",
    "           transforms.Normalize((0.5, 0.5, 0.5), (0.5, 0.5, 0.5))\n",
    "       ])\n",
    "    \n",
    "    def setup(self, stage=None):\n",
    "        data = CancerDataset(label_dir=self.label_dir,\n",
    "                          img_dir=self.img_dir,\n",
    "                          transform=self.transform\n",
    "                    )\n",
    "        train_n = int(len(data) * wandb.config['data_size'] * 0.7)\n",
    "        val_n = int(len(data) * wandb.config['data_size'] * 0.3)\n",
    "        dataset = train_val_dataset(data, train_split=train_n, val_split=val_n)\n",
    "        self.train_dataset = dataset['train']\n",
    "        self.val_dataset = dataset['val']\n",
    "    \n",
    "    def train_dataloader(self):\n",
    "        return DataLoader(self.train_dataset, batch_size=self.batch_size, shuffle=True)\n",
    "    \n",
    "    def val_dataloader(self):\n",
    "        return DataLoader(self.val_dataset, batch_size=self.batch_size)       "
   ]
  },
  {
   "cell_type": "code",
   "execution_count": 6,
   "id": "9e5de3ec",
   "metadata": {},
   "outputs": [
    {
     "name": "stderr",
     "output_type": "stream",
     "text": [
      "\u001b[34m\u001b[1mwandb\u001b[0m: Currently logged in as: \u001b[33mrespwill\u001b[0m. Use \u001b[1m`wandb login --relogin`\u001b[0m to force relogin\n"
     ]
    },
    {
     "data": {
      "text/html": [
       "wandb version 0.13.10 is available!  To upgrade, please run:\n",
       " $ pip install wandb --upgrade"
      ],
      "text/plain": [
       "<IPython.core.display.HTML object>"
      ]
     },
     "metadata": {},
     "output_type": "display_data"
    },
    {
     "data": {
      "text/html": [
       "Tracking run with wandb version 0.12.20"
      ],
      "text/plain": [
       "<IPython.core.display.HTML object>"
      ]
     },
     "metadata": {},
     "output_type": "display_data"
    },
    {
     "data": {
      "text/html": [
       "Run data is saved locally in <code>C:\\Users\\jaydenpark\\Documents\\GitHub\\histopathologic-cancer-detection\\wandb\\run-20230217_160836-1qw39nd2</code>"
      ],
      "text/plain": [
       "<IPython.core.display.HTML object>"
      ]
     },
     "metadata": {},
     "output_type": "display_data"
    },
    {
     "data": {
      "text/html": [
       "Syncing run <strong><a href=\"https://wandb.ai/respwill/histopathologic-cancer-classifier/runs/1qw39nd2\" target=\"_blank\">Test1</a></strong> to <a href=\"https://wandb.ai/respwill/histopathologic-cancer-classifier\" target=\"_blank\">Weights & Biases</a> (<a href=\"https://wandb.me/run\" target=\"_blank\">docs</a>)<br/>"
      ],
      "text/plain": [
       "<IPython.core.display.HTML object>"
      ]
     },
     "metadata": {},
     "output_type": "display_data"
    },
    {
     "data": {
      "text/html": [
       "<button onClick=\"this.nextSibling.style.display='block';this.style.display='none';\">Display W&B run</button><iframe src=\"https://wandb.ai/respwill/histopathologic-cancer-classifier/runs/1qw39nd2?jupyter=true\" style=\"border:none;width:100%;height:420px;display:none;\"></iframe>"
      ],
      "text/plain": [
       "<wandb.sdk.wandb_run.Run at 0x1e1272e04c0>"
      ]
     },
     "execution_count": 6,
     "metadata": {},
     "output_type": "execute_result"
    }
   ],
   "source": [
    "wandb.login()\n",
    "wandb.init(\n",
    "#       mode='disabled',\n",
    "      # Set the project where this run will be logged\n",
    "      project=\"histopathologic-cancer-classifier\", \n",
    "      # We pass a run name (otherwise it’ll be randomly assigned, like sunshine-lollypop-10)\n",
    "      name=\"Test1\", \n",
    "      # Track hyperparameters and run metadata\n",
    "      config={\n",
    "      \"learning_rate\": 0.0005,\n",
    "      \"data_size\": 1.0,\n",
    "      \"batch_size\":32,\n",
    "      })"
   ]
  },
  {
   "cell_type": "code",
   "execution_count": 7,
   "id": "73e9e7b6",
   "metadata": {},
   "outputs": [
    {
     "name": "stderr",
     "output_type": "stream",
     "text": [
      "C:\\Users\\jaydenpark\\Anaconda3\\envs\\nlp3\\lib\\site-packages\\pytorch_lightning\\loggers\\wandb.py:347: UserWarning: There is a wandb run already in progress and newly created instances of `WandbLogger` will reuse this run. If this is not desired, call `wandb.finish()` before instantiating `WandbLogger`.\n",
      "  rank_zero_warn(\n"
     ]
    }
   ],
   "source": [
    "wandb_logger = WandbLogger()"
   ]
  },
  {
   "cell_type": "code",
   "execution_count": 8,
   "id": "9eb707fb",
   "metadata": {
    "scrolled": false
   },
   "outputs": [
    {
     "name": "stderr",
     "output_type": "stream",
     "text": [
      "C:\\Users\\jaydenpark\\Anaconda3\\envs\\nlp3\\lib\\site-packages\\pytorch_lightning\\core\\datamodule.py:149: LightningDeprecationWarning: DataModule property `dims` was deprecated in v1.5 and will be removed in v1.7.\n",
      "  rank_zero_deprecation(\"DataModule property `dims` was deprecated in v1.5 and will be removed in v1.7.\")\n"
     ]
    }
   ],
   "source": [
    "dm = DataModule(batch_size=wandb.config['batch_size'], \n",
    "                label_dir=\"./train_labels_balance.csv\", \n",
    "                img_dir=\"../histopathologic-cancer-detection_data/train/\")"
   ]
  },
  {
   "cell_type": "code",
   "execution_count": 9,
   "id": "44b07bda",
   "metadata": {
    "scrolled": false
   },
   "outputs": [
    {
     "name": "stderr",
     "output_type": "stream",
     "text": [
      "C:\\Users\\jaydenpark\\Anaconda3\\envs\\nlp3\\lib\\site-packages\\pytorch_lightning\\core\\datamodule.py:144: LightningDeprecationWarning: DataModule property `dims` was deprecated in v1.5 and will be removed in v1.7.\n",
      "  rank_zero_deprecation(\"DataModule property `dims` was deprecated in v1.5 and will be removed in v1.7.\")\n"
     ]
    }
   ],
   "source": [
    "im_encoder = ImageEncoder(input_shape=dm.dims, num_classes=dm.num_classes, learning_rate=wandb.config['learning_rate'])"
   ]
  },
  {
   "cell_type": "code",
   "execution_count": 10,
   "id": "0ac74475",
   "metadata": {},
   "outputs": [
    {
     "data": {
      "text/plain": [
       "   | Name      | Type       | Params\n",
       "------------------------------------------\n",
       "0  | encoder   | Sequential | 15.7 K\n",
       "1  | encoder.0 | Conv2d     | 456   \n",
       "2  | encoder.1 | ReLU       | 0     \n",
       "3  | encoder.2 | MaxPool2d  | 0     \n",
       "4  | encoder.3 | Conv2d     | 2.4 K \n",
       "5  | encoder.4 | ReLU       | 0     \n",
       "6  | encoder.5 | MaxPool2d  | 0     \n",
       "7  | encoder.6 | Conv2d     | 12.8 K\n",
       "8  | encoder.7 | ReLU       | 0     \n",
       "9  | encoder.8 | MaxPool2d  | 0     \n",
       "10 | dense     | Sequential | 530 K \n",
       "11 | dense.0   | Flatten    | 0     \n",
       "12 | dense.1   | Linear     | 491 K \n",
       "13 | dense.2   | ReLU       | 0     \n",
       "14 | dense.3   | Linear     | 28.9 K\n",
       "15 | dense.4   | ReLU       | 0     \n",
       "16 | dense.5   | Linear     | 9.7 K \n",
       "17 | dense.6   | ReLU       | 0     \n",
       "18 | dense.7   | Linear     | 81    \n",
       "19 | accuracy  | Accuracy   | 0     \n",
       "------------------------------------------\n",
       "546 K     Trainable params\n",
       "0         Non-trainable params\n",
       "546 K     Total params\n",
       "2.185     Total estimated model params size (MB)"
      ]
     },
     "execution_count": 10,
     "metadata": {},
     "output_type": "execute_result"
    }
   ],
   "source": [
    "ModelSummary(im_encoder, max_depth=-1)"
   ]
  },
  {
   "cell_type": "code",
   "execution_count": 11,
   "id": "a0b8c0f8",
   "metadata": {},
   "outputs": [],
   "source": [
    "checkpoint_callback = pl.callbacks.ModelCheckpoint(\n",
    "    dirpath='./check_point/', \n",
    "    filename='{epoch}-{train_loss:.4f}-{val_loss:.4f}', \n",
    "    monitor=\"val_loss\", \n",
    "    mode=\"min\", \n",
    "    save_top_k=5\n",
    ")"
   ]
  },
  {
   "cell_type": "code",
   "execution_count": 12,
   "id": "aa4f9d64",
   "metadata": {
    "scrolled": false
   },
   "outputs": [
    {
     "name": "stderr",
     "output_type": "stream",
     "text": [
      "GPU available: True, used: True\n",
      "TPU available: False, using: 0 TPU cores\n",
      "IPU available: False, using: 0 IPUs\n",
      "HPU available: False, using: 0 HPUs\n"
     ]
    }
   ],
   "source": [
    "trainer = pl.Trainer(accelerator='gpu',\n",
    "                     devices=1,\n",
    "                    max_epochs=200,\n",
    "                     logger=wandb_logger,\n",
    "                    callbacks=[checkpoint_callback])"
   ]
  },
  {
   "cell_type": "code",
   "execution_count": 13,
   "id": "bb58d98e",
   "metadata": {
    "scrolled": false
   },
   "outputs": [
    {
     "name": "stderr",
     "output_type": "stream",
     "text": [
      "C:\\Users\\jaydenpark\\Anaconda3\\envs\\nlp3\\lib\\site-packages\\pytorch_lightning\\callbacks\\model_checkpoint.py:611: UserWarning: Checkpoint directory C:\\Users\\jaydenpark\\Documents\\GitHub\\histopathologic-cancer-detection\\check_point exists and is not empty.\n",
      "  rank_zero_warn(f\"Checkpoint directory {dirpath} exists and is not empty.\")\n",
      "LOCAL_RANK: 0 - CUDA_VISIBLE_DEVICES: [0,1]\n",
      "\n",
      "  | Name     | Type       | Params\n",
      "----------------------------------------\n",
      "0 | encoder  | Sequential | 15.7 K\n",
      "1 | dense    | Sequential | 530 K \n",
      "2 | accuracy | Accuracy   | 0     \n",
      "----------------------------------------\n",
      "546 K     Trainable params\n",
      "0         Non-trainable params\n",
      "546 K     Total params\n",
      "2.185     Total estimated model params size (MB)\n"
     ]
    },
    {
     "data": {
      "application/vnd.jupyter.widget-view+json": {
       "model_id": "",
       "version_major": 2,
       "version_minor": 0
      },
      "text/plain": [
       "Sanity Checking: 0it [00:00, ?it/s]"
      ]
     },
     "metadata": {},
     "output_type": "display_data"
    },
    {
     "name": "stderr",
     "output_type": "stream",
     "text": [
      "C:\\Users\\jaydenpark\\Anaconda3\\envs\\nlp3\\lib\\site-packages\\pytorch_lightning\\trainer\\connectors\\data_connector.py:240: PossibleUserWarning: The dataloader, val_dataloader 0, does not have many workers which may be a bottleneck. Consider increasing the value of the `num_workers` argument` (try 24 which is the number of cpus on this machine) in the `DataLoader` init to improve performance.\n",
      "  rank_zero_warn(\n",
      "C:\\Users\\jaydenpark\\Anaconda3\\envs\\nlp3\\lib\\site-packages\\pytorch_lightning\\trainer\\connectors\\data_connector.py:240: PossibleUserWarning: The dataloader, train_dataloader, does not have many workers which may be a bottleneck. Consider increasing the value of the `num_workers` argument` (try 24 which is the number of cpus on this machine) in the `DataLoader` init to improve performance.\n",
      "  rank_zero_warn(\n"
     ]
    },
    {
     "data": {
      "application/vnd.jupyter.widget-view+json": {
       "model_id": "f39c1c0a7bb1436f8b5d0733c813dc74",
       "version_major": 2,
       "version_minor": 0
      },
      "text/plain": [
       "Training: 0it [00:00, ?it/s]"
      ]
     },
     "metadata": {},
     "output_type": "display_data"
    },
    {
     "data": {
      "application/vnd.jupyter.widget-view+json": {
       "model_id": "",
       "version_major": 2,
       "version_minor": 0
      },
      "text/plain": [
       "Validation: 0it [00:00, ?it/s]"
      ]
     },
     "metadata": {},
     "output_type": "display_data"
    },
    {
     "data": {
      "application/vnd.jupyter.widget-view+json": {
       "model_id": "",
       "version_major": 2,
       "version_minor": 0
      },
      "text/plain": [
       "Validation: 0it [00:00, ?it/s]"
      ]
     },
     "metadata": {},
     "output_type": "display_data"
    },
    {
     "data": {
      "application/vnd.jupyter.widget-view+json": {
       "model_id": "",
       "version_major": 2,
       "version_minor": 0
      },
      "text/plain": [
       "Validation: 0it [00:00, ?it/s]"
      ]
     },
     "metadata": {},
     "output_type": "display_data"
    },
    {
     "data": {
      "application/vnd.jupyter.widget-view+json": {
       "model_id": "",
       "version_major": 2,
       "version_minor": 0
      },
      "text/plain": [
       "Validation: 0it [00:00, ?it/s]"
      ]
     },
     "metadata": {},
     "output_type": "display_data"
    },
    {
     "data": {
      "application/vnd.jupyter.widget-view+json": {
       "model_id": "",
       "version_major": 2,
       "version_minor": 0
      },
      "text/plain": [
       "Validation: 0it [00:00, ?it/s]"
      ]
     },
     "metadata": {},
     "output_type": "display_data"
    },
    {
     "data": {
      "application/vnd.jupyter.widget-view+json": {
       "model_id": "",
       "version_major": 2,
       "version_minor": 0
      },
      "text/plain": [
       "Validation: 0it [00:00, ?it/s]"
      ]
     },
     "metadata": {},
     "output_type": "display_data"
    },
    {
     "data": {
      "application/vnd.jupyter.widget-view+json": {
       "model_id": "",
       "version_major": 2,
       "version_minor": 0
      },
      "text/plain": [
       "Validation: 0it [00:00, ?it/s]"
      ]
     },
     "metadata": {},
     "output_type": "display_data"
    },
    {
     "data": {
      "application/vnd.jupyter.widget-view+json": {
       "model_id": "",
       "version_major": 2,
       "version_minor": 0
      },
      "text/plain": [
       "Validation: 0it [00:00, ?it/s]"
      ]
     },
     "metadata": {},
     "output_type": "display_data"
    },
    {
     "data": {
      "application/vnd.jupyter.widget-view+json": {
       "model_id": "",
       "version_major": 2,
       "version_minor": 0
      },
      "text/plain": [
       "Validation: 0it [00:00, ?it/s]"
      ]
     },
     "metadata": {},
     "output_type": "display_data"
    },
    {
     "data": {
      "application/vnd.jupyter.widget-view+json": {
       "model_id": "",
       "version_major": 2,
       "version_minor": 0
      },
      "text/plain": [
       "Validation: 0it [00:00, ?it/s]"
      ]
     },
     "metadata": {},
     "output_type": "display_data"
    },
    {
     "data": {
      "application/vnd.jupyter.widget-view+json": {
       "model_id": "",
       "version_major": 2,
       "version_minor": 0
      },
      "text/plain": [
       "Validation: 0it [00:00, ?it/s]"
      ]
     },
     "metadata": {},
     "output_type": "display_data"
    },
    {
     "name": "stderr",
     "output_type": "stream",
     "text": [
      "C:\\Users\\jaydenpark\\Anaconda3\\envs\\nlp3\\lib\\site-packages\\pytorch_lightning\\trainer\\trainer.py:726: UserWarning: Detected KeyboardInterrupt, attempting graceful shutdown...\n",
      "  rank_zero_warn(\"Detected KeyboardInterrupt, attempting graceful shutdown...\")\n"
     ]
    }
   ],
   "source": [
    "trainer.fit(im_encoder, dm)"
   ]
  },
  {
   "cell_type": "markdown",
   "id": "4a6fc9b3",
   "metadata": {},
   "source": [
    "## Predict Validation set to amend threshold."
   ]
  },
  {
   "cell_type": "code",
   "execution_count": 30,
   "id": "14f0fb7b",
   "metadata": {},
   "outputs": [],
   "source": [
    "im_encoder.eval()\n",
    "eval_dataloader = dm.val_dataloader()\n",
    "\n",
    "logits = []\n",
    "target = []\n",
    "with torch.no_grad():\n",
    "    for batch in eval_dataloader:\n",
    "        x,y = batch\n",
    "        y_hat = im_encoder(x)\n",
    "        logits.extend(y_hat)\n",
    "        target.extend(y)"
   ]
  },
  {
   "cell_type": "code",
   "execution_count": 63,
   "id": "c3773f9e",
   "metadata": {},
   "outputs": [],
   "source": [
    "from sklearn.metrics import roc_curve, precision_recall_curve, accuracy_score, f1_score"
   ]
  },
  {
   "cell_type": "code",
   "execution_count": 58,
   "id": "8043f6af",
   "metadata": {},
   "outputs": [],
   "source": [
    "import numpy as np"
   ]
  },
  {
   "cell_type": "code",
   "execution_count": 40,
   "id": "4ea4f6ac",
   "metadata": {},
   "outputs": [],
   "source": [
    "target_np = torch.cat(target).detach().numpy()\n",
    "logits_np = torch.cat(logits).detach().numpy()"
   ]
  },
  {
   "cell_type": "code",
   "execution_count": 59,
   "id": "da0b4d14",
   "metadata": {},
   "outputs": [],
   "source": [
    "pred_05 = np.where(logits_np>=0.5, 1, 0)"
   ]
  },
  {
   "cell_type": "code",
   "execution_count": 60,
   "id": "bdb54604",
   "metadata": {},
   "outputs": [],
   "source": [
    "acc_05 = accuracy_score(target_np, pred_05)"
   ]
  },
  {
   "cell_type": "code",
   "execution_count": 64,
   "id": "9d197e53",
   "metadata": {},
   "outputs": [],
   "source": [
    "f1_05 = f1_score(target_np, pred_05)"
   ]
  },
  {
   "cell_type": "markdown",
   "id": "99bd0bb9",
   "metadata": {},
   "source": [
    "### Accuracy and F1 with 0.5 threshold"
   ]
  },
  {
   "cell_type": "code",
   "execution_count": 65,
   "id": "a38de1b6",
   "metadata": {},
   "outputs": [
    {
     "data": {
      "text/plain": [
       "(0.89738170936974, 0.8907864095061803)"
      ]
     },
     "execution_count": 65,
     "metadata": {},
     "output_type": "execute_result"
    }
   ],
   "source": [
    "acc_05, f1_05"
   ]
  },
  {
   "cell_type": "code",
   "execution_count": 47,
   "id": "4fb09f54",
   "metadata": {},
   "outputs": [],
   "source": [
    "fpr, tpr, _ = roc_curve(target_np, logits_np)"
   ]
  },
  {
   "cell_type": "code",
   "execution_count": 44,
   "id": "58164042",
   "metadata": {},
   "outputs": [],
   "source": [
    "import matplotlib.pyplot as plt"
   ]
  },
  {
   "cell_type": "markdown",
   "id": "621c3634",
   "metadata": {},
   "source": [
    "### ROC curve"
   ]
  },
  {
   "cell_type": "code",
   "execution_count": 91,
   "id": "fdd2ad83",
   "metadata": {},
   "outputs": [
    {
     "data": {
      "image/png": "[encoded data removed]",
      "text/plain": [
       "<Figure size 432x288 with 1 Axes>"
      ]
     },
     "metadata": {
      "needs_background": "light"
     },
     "output_type": "display_data"
    }
   ],
   "source": [
    "plt.plot(fpr, tpr)\n",
    "plt.ylabel('True Positive Rate')\n",
    "plt.xlabel('False Positive Rate')\n",
    "plt.grid()\n",
    "plt.title('ROC curve');"
   ]
  },
  {
   "cell_type": "markdown",
   "id": "e11a2e83",
   "metadata": {},
   "source": [
    "### Precision, Recall Curve"
   ]
  },
  {
   "cell_type": "code",
   "execution_count": 48,
   "id": "a7ff19ca",
   "metadata": {},
   "outputs": [],
   "source": [
    "precision, recall, threshold = precision_recall_curve(target_np, logits_np)"
   ]
  },
  {
   "cell_type": "code",
   "execution_count": 90,
   "id": "51ae83bb",
   "metadata": {},
   "outputs": [
    {
     "data": {
      "image/png": "[encoded data removed]",
      "text/plain": [
       "<Figure size 432x288 with 1 Axes>"
      ]
     },
     "metadata": {
      "needs_background": "light"
     },
     "output_type": "display_data"
    }
   ],
   "source": [
    "plt.plot(precision, recall)\n",
    "plt.ylabel('recall')\n",
    "plt.xlabel('precision')\n",
    "plt.grid()\n",
    "plt.title('Precision - Recall curve');"
   ]
  },
  {
   "cell_type": "code",
   "execution_count": 77,
   "id": "c362b711",
   "metadata": {},
   "outputs": [
    {
     "name": "stdout",
     "output_type": "stream",
     "text": [
      "0.9000074096028453 0.9122760899770926 0.27434835\n",
      "0.9000037049386833 0.9122385369334185 0.2744224\n",
      "0.9000370507595405 0.9122385369334185 0.27444595\n",
      "0.9000703990514655 0.9122385369334185 0.27448434\n",
      "0.9001037498147325 0.9122385369334185 0.27448654\n",
      "0.9001000481713417 0.9122009838897442 0.27450904\n",
      "0.9001334025050026 0.9122009838897442 0.27454826\n",
      "0.9001667593107282 0.9122009838897442 0.27457792\n",
      "0.9002001185887933 0.9122009838897442 0.27466586\n",
      "0.900233480339473 0.9122009838897442 0.27477998\n",
      "0.9002297828181751 0.9121634308460701 0.27479458\n",
      "0.9002260850227938 0.9121258778023958 0.27480447\n",
      "0.9002594514455152 0.9121258778023958 0.27480668\n",
      "0.9002557544757033 0.9120883247587217 0.27481398\n",
      "0.9002520572318186 0.9120507717150476 0.2749337\n",
      "0.9002854283278349 0.9120507717150476 0.2749447\n",
      "0.9003188018979834 0.9120507717150476 0.2749783\n",
      "0.9003521779425394 0.9120507717150476 0.27497864\n",
      "0.900385556461778 0.9120507717150476 0.27500302\n",
      "0.9003818633448263 0.9120132186713733 0.27501434\n",
      "0.9004152454397153 0.9120132186713733 0.27503434\n",
      "0.9004115531496792 0.9119756656276992 0.27520144\n",
      "0.9004078605858361 0.9119381125840249 0.27523944\n",
      "0.9004041677481552 0.9119005595403508 0.2755167\n",
      "0.9004004746366063 0.9118630064966765 0.2755656\n",
      "0.9003967812511589 0.9118254534530024 0.27563193\n",
      "0.9003930875917823 0.9117879004093282 0.2756573\n",
      "0.9003893936584462 0.911750347365654 0.2757293\n",
      "0.9004227859368046 0.911750347365654 0.27581236\n",
      "0.9004561806920595 0.911750347365654 0.27586395\n",
      "0.9004895779244864 0.911750347365654 0.27594557\n",
      "0.9005229776343607 0.911750347365654 0.27596268\n",
      "0.9005192878338278 0.9117127943219798 0.2760565\n",
      "0.900552691123558 0.9117127943219798 0.27608886\n",
      "0.9005860968914607 0.9117127943219798 0.27648124\n",
      "0.9006195051378121 0.9117127943219798 0.27666032\n",
      "0.9006158183706782 0.9116752412783056 0.27671057\n",
      "0.9006121313299944 0.9116376882346314 0.2767435\n",
      "0.9006455442605921 0.9116376882346314 0.2767552\n",
      "0.9006418580491967 0.9116001351909572 0.2767894\n",
      "0.9006752745621847 0.9116001351909572 0.27683982\n",
      "0.9007086935549702 0.9116001351909572 0.27684548\n",
      "0.9007421150278293 0.9116001351909572 0.2768642\n",
      "0.9007755389810382 0.9116001351909572 0.27690998\n",
      "0.9008089654148731 0.9116001351909572 0.2769481\n",
      "0.9008052844472483 0.911562582147283 0.2769494\n",
      "0.900838714465969 0.911562582147283 0.2769608\n",
      "0.9008350343291891 0.9115250291036089 0.27707437\n",
      "0.9008684679334917 0.9115250291036089 0.27717432\n",
      "0.9009019040195969 0.9115250291036089 0.27732176\n",
      "0.9008982258184247 0.9114874760599346 0.2773633\n",
      "0.9008945473441966 0.9114499230162605 0.2774441\n",
      "0.9008908685968819 0.9114123699725862 0.27749038\n",
      "0.9009243104792308 0.9114123699725862 0.2777784\n",
      "0.9009577548444576 0.9114123699725862 0.27779266\n",
      "0.900954078033931 0.9113748169289121 0.2778118\n",
      "0.900987525987526 0.9113748169289121 0.27781782\n",
      "0.9010209764247262 0.9113748169289121 0.27788737\n",
      "0.9010544293458083 0.9113748169289121 0.27791306\n",
      "0.9010507555786581 0.911337263885238 0.27794585\n",
      "0.9010842120897075 0.911337263885238 0.27798387\n",
      "0.9011176710853663 0.911337263885238 0.27800062\n",
      "0.9011511325659116 0.911337263885238 0.2780102\n",
      "0.9011474618441085 0.9112997108415637 0.2781081\n",
      "0.901180926916221 0.9112997108415637 0.2781856\n",
      "0.9011772570282616 0.9112621577978895 0.27818996\n",
      "0.901210725692639 0.9112621577978895 0.27820763\n",
      "0.9012441968430827 0.9112621577978895 0.2782885\n",
      "0.9012776704798693 0.9112621577978895 0.2783119\n",
      "0.901311146603276 0.9112621577978895 0.27831852\n",
      "0.9013074808706634 0.9112246047542153 0.27835715\n",
      "0.9013409605883882 0.9112246047542153 0.2784528\n",
      "0.9013372956909361 0.9111870517105412 0.27847436\n",
      "0.9013336305211932 0.9111494986668669 0.27849746\n",
      "0.9013671149416748 0.9111494986668669 0.278516\n",
      "0.9013634506074228 0.9111119456231928 0.27854803\n",
      "0.9013969386238668 0.9111119456231928 0.27866697\n",
      "0.9013932751253948 0.9110743925795186 0.27877626\n",
      "0.9014267667385004 0.9110743925795186 0.27907476\n",
      "0.901460260840486 0.9110743925795186 0.27909628\n",
      "0.901493757431629 0.9110743925795186 0.27916363\n",
      "0.9015272565122069 0.9110743925795186 0.27917066\n",
      "0.9015235971757711 0.9110368395358444 0.27919835\n",
      "0.9015199375673566 0.9109992864921702 0.27920473\n",
      "0.9015162776869332 0.910961733448496 0.27924109\n",
      "0.9015497825844576 0.910961733448496 0.2793194\n",
      "0.9015832899724968 0.910961733448496 0.27936873\n",
      "0.9015796320386545 0.9109241804048218 0.27940866\n",
      "0.9015759738328873 0.9108866273611477 0.27946866\n",
      "0.9015723153551648 0.9108490743174734 0.2794727\n",
      "0.9016058285629321 0.9108490743174734 0.27947322\n",
      "0.9016393442622951 0.9108490743174734 0.27950335\n",
      "0.9016728624535316 0.9108490743174734 0.2796426\n",
      "0.9017063831369196 0.9108490743174734 0.2796427\n",
      "0.9017027288274221 0.9108115212737993 0.27969286\n",
      "0.9017362531137302 0.9108115212737993 0.27976725\n",
      "0.9017325996430696 0.910773968230125 0.27985957\n",
      "0.901728945900725 0.9107364151864509 0.27987304\n",
      "0.9017252918866662 0.9106988621427766 0.2798836\n",
      "0.9017588219982895 0.9106988621427766 0.27992943\n",
      "0.9017551688234419 0.9106613090991025 0.28009492\n",
      "0.9017515153768919 0.9106237560554283 0.28010985\n",
      "0.9017478616586091 0.9105862030117541 0.2801566\n",
      "0.9017813975975306 0.9105862030117541 0.2802002\n",
      "0.9017777447188337 0.9105486499680799 0.28034168\n",
      "0.9018112842637706 0.9105486499680799 0.28038454\n",
      "0.9018448263036525 0.9105486499680799 0.28060746\n",
      "0.9018783708387577 0.9105486499680799 0.280663\n",
      "0.9019119178693646 0.9105486499680799 0.28072023\n",
      "0.901945467395752 0.9105486499680799 0.28072533\n",
      "0.901979019418198 0.9105486499680799 0.2808262\n",
      "0.9020125739369815 0.9105486499680799 0.28089663\n",
      "0.9020089285714286 0.9105110969244057 0.2809957\n",
      "0.902005282934633 0.9104735438807315 0.2810124\n",
      "0.9020388421757571 0.9104735438807315 0.2810482\n",
      "0.9020351973806601 0.9104359908370574 0.28126058\n",
      "0.9020315523143325 0.9103984377933831 0.28133392\n",
      "0.9020651162790697 0.9103984377933831 0.2813599\n",
      "0.9020986827416834 0.9103984377933831 0.2814108\n",
      "0.9021322517024523 0.9103984377933831 0.2814137\n",
      "0.9021286097052694 0.910360884749709 0.28143695\n",
      "0.9021249674370139 0.9103233317060347 0.28148606\n",
      "0.9021213248976554 0.9102857786623606 0.28151485\n",
      "0.9021176820871637 0.9102482256186863 0.28165302\n",
      "0.9021140390055085 0.9102106725750122 0.28173923\n",
      "0.9021103956526594 0.9101731195313381 0.2817814\n",
      "0.9021439737958759 0.9101731195313381 0.2818019\n",
      "0.90214033128606 0.9101355664876638 0.28188565\n",
      "0.9021366885050626 0.9100980134439897 0.28189525\n",
      "0.9021702713769869 0.9100980134439897 0.2819139\n",
      "0.9022038567493113 0.9100980134439897 0.2819597\n",
      "0.9022374446223149 0.9100980134439897 0.28202602\n",
      "0.902271034996277 0.9100980134439897 0.28209\n",
      "0.9022673964034402 0.9100604604003154 0.2821182\n",
      "0.9023009903939236 0.9100604604003154 0.28212103\n",
      "0.9023345868861005 0.9100604604003154 0.2822138\n",
      "0.9023309502532023 0.9100229073566413 0.2825889\n",
      "0.9023273133494694 0.9099853543129671 0.28268057\n",
      "0.9023609145751098 0.9099853543129671 0.28268835\n",
      "0.9023945183033553 0.9099853543129671 0.28281364\n",
      "0.9023908833606435 0.9099478012692929 0.28283003\n",
      "0.9023872481471826 0.9099102482256187 0.2828344\n",
      "0.9023836126629423 0.9098726951819445 0.28292868\n",
      "0.9023799769078923 0.9098351421382703 0.28297317\n",
      "0.9024135876042908 0.9098351421382703 0.2829804\n",
      "0.9024099526949008 0.9097975890945961 0.28299257\n",
      "0.9024063175147136 0.9097600360509219 0.2830138\n",
      "0.9024399329484075 0.9097600360509219 0.28307897\n",
      "0.9024735508866041 0.9097600360509219 0.2831144\n",
      "0.902469917669411 0.9097224830072478 0.28320128\n",
      "0.9024662841815065 0.9096849299635735 0.28330067\n",
      "0.9024626504228606 0.9096473769198994 0.28330728\n",
      "0.9024962742175857 0.9096473769198994 0.28339255\n",
      "0.902529900517903 0.9096473769198994 0.28341705\n",
      "0.9025635293240927 0.9096473769198994 0.28344825\n",
      "0.9025598986473898 0.9096098238762251 0.28352723\n",
      "0.9025935310776568 0.9096098238762251 0.2835767\n",
      "0.9026271660145333 0.9096098238762251 0.28358057\n",
      "0.9026608034582991 0.9096098238762251 0.28361154\n",
      "0.9026571758655387 0.909572270832551 0.2837735\n",
      "0.9026535480023852 0.9095347177888767 0.2838174\n",
      "0.9026871901904513 0.9095347177888767 0.28388748\n",
      "0.9027208348863213 0.9095347177888767 0.28388762\n",
      "0.9027172089902717 0.9094971647452026 0.28404808\n",
      "0.9027135828239153 0.9094596117015284 0.28406712\n",
      "0.9027472322660006 0.9094596117015284 0.28421783\n",
      "0.9027436069484828 0.9094220586578542 0.28424117\n",
      "0.9027772600186393 0.9094220586578542 0.28436992\n",
      "0.9027736355502535 0.90938450561418 0.28469554\n",
      "0.9028072922491891 0.90938450561418 0.28482047\n",
      "0.9028409514577586 0.90938450561418 0.2848845\n",
      "0.9028373289586518 0.9093469525705058 0.28498667\n",
      "0.9028337061894108 0.9093093995268317 0.2850116\n",
      "0.9028300831500056 0.9092718464831575 0.28524727\n",
      "0.9028264598404057 0.9092342934394833 0.28525472\n",
      "0.9028601260394525 0.9092342934394833 0.285296\n",
      "0.9028937947494033 0.9092342934394833 0.2853733\n",
      "0.9029274659705389 0.9092342934394833 0.2854636\n",
      "0.9029611397031402 0.9092342934394833 0.2854661\n",
      "0.9029575206056764 0.9091967403958091 0.2854674\n",
      "0.9029911979710578 0.9091967403958091 0.2854913\n",
      "0.9030248778486442 0.9091967403958091 0.28549427\n",
      "0.9030585602387169 0.9091967403958091 0.28549582\n",
      "0.903092245141557 0.9091967403958091 0.28552112\n",
      "0.903088630259624 0.9091591873521349 0.28554925\n",
      "0.9031223187973291 0.9091591873521349 0.28557608\n",
      "0.9031560098485414 0.9091591873521349 0.2855988\n",
      "0.9031523969408692 0.9091216343084607 0.28565183\n",
      "0.9031860916281153 0.9091216343084607 0.2857377\n",
      "0.9032197888296086 0.9091216343084607 0.28577164\n",
      "0.9032534885456309 0.9091216343084607 0.28579548\n",
      "0.903249878735868 0.9090840812647865 0.28582802\n",
      "0.9032462686567164 0.9090465282211123 0.28584996\n",
      "0.9032799731333259 0.9090465282211123 0.28590918\n",
      "0.9033136801253825 0.9090465282211123 0.28591418\n",
      "0.9033473896331679 0.9090465282211123 0.28592467\n",
      "0.9033811016569637 0.9090465282211123 0.2859399\n",
      "0.9033774958014555 0.9090089751774382 0.28595456\n",
      "0.9033738896767933 0.9089714221337639 0.28600505\n",
      "0.903407606464375 0.9089714221337639 0.28601223\n",
      "0.9034040011943864 0.9089338690900898 0.28607044\n",
      "0.9034377216229331 0.9089338690900898 0.2861786\n",
      "0.903471444568869 0.9089338690900898 0.28619486\n",
      "0.903505170032476 0.9089338690900898 0.28620562\n",
      "0.9035015678662087 0.9088963160464155 0.28625834\n",
      "0.903535296972412 0.9088963160464155 0.28631556\n",
      "0.9035690285970283 0.9088963160464155 0.2863569\n",
      "0.9036027627403398 0.9088963160464155 0.2864294\n",
      "0.9036364994026285 0.9088963160464155 0.28646207\n",
      "0.9036702385841765 0.9088963160464155 0.28647828\n",
      "0.9037039802852662 0.9088963160464155 0.286565\n",
      "0.9037377245061797 0.9088963160464155 0.28656918\n",
      "0.9037341299477222 0.9088587630027414 0.2866964\n",
      "0.9037305351208036 0.9088212099590672 0.2866969\n",
      "0.903726940025394 0.908783656915393 0.28675732\n",
      "0.9037233446614632 0.9087461038717188 0.28690606\n",
      "0.9037197490289812 0.9087085508280446 0.28693792\n",
      "0.9037535014005602 0.9087085508280446 0.28702828\n",
      "0.9037872562934189 0.9087085508280446 0.28704113\n",
      "0.9037836626452023 0.9086709977843704 0.28707737\n",
      "0.903817421186314 0.9086709977843704 0.28709638\n",
      "0.9038138283963991 0.9086334447406962 0.28709796\n",
      "0.9038475905864773 0.9086334447406962 0.28715518\n",
      "0.9038439986551609 0.908595891697022 0.2872692\n",
      "0.9038404064554693 0.9085583386533479 0.28727546\n",
      "0.9038741734224979 0.9085583386533479 0.28729737\n",
      "0.9038705820817455 0.9085207856096736 0.28729907\n",
      "0.9039043526994209 0.9085207856096736 0.28730828\n",
      "0.9039007622179046 0.9084832325659995 0.28736702\n",
      "0.9038971714680716 0.9084456795223252 0.28737748\n",
      "0.9038935804498917 0.9084081264786511 0.28745058\n",
      "0.903927356974702 0.9084081264786511 0.28757137\n",
      "0.9039237668161435 0.908370573434977 0.28762722\n",
      "0.9039201763892523 0.9083330203913027 0.28765333\n",
      "0.903953957694895 0.9083330203913027 0.28767174\n",
      "0.9039877415255821 0.9083330203913027 0.28785294\n",
      "0.9039841530871581 0.9082954673476286 0.28792736\n",
      "0.9039805643804897 0.9082579143039543 0.2879968\n",
      "0.9039769754055468 0.9082203612602802 0.2880426\n",
      "0.9040107651478339 0.9082203612602802 0.28806475\n",
      "0.9040071770334929 0.9081828082166059 0.288097\n",
      "0.904040970431012 0.9081828082166059 0.28817856\n",
      "0.9040747663551402 0.9081828082166059 0.2882284\n",
      "0.9040711802310367 0.9081452551729318 0.28829268\n",
      "0.9041049798115747 0.9081452551729318 0.28833783\n",
      "0.9041013945489214 0.9081077021292576 0.28840262\n",
      "0.9041351977865849 0.9081077021292576 0.2884134\n",
      "0.9041316133856796 0.9080701490855834 0.28845444\n",
      "0.9041280287167215 0.9080325960419092 0.28848028\n",
      "0.9041618367423251 0.9080325960419092 0.2885584\n",
      "0.9041582529354574 0.907995042998235 0.28870714\n",
      "0.9041546688605512 0.9079574899545608 0.28873986\n",
      "0.9041884816753927 0.9079574899545608 0.2887773\n",
      "0.9042222970193351 0.9079574899545608 0.2888843\n",
      "0.904218714937542 0.9079199369108867 0.288946\n",
      "0.9042525339417287 0.9079199369108867 0.28898007\n",
      "0.904286355475763 0.9079199369108867 0.28899226\n",
      "0.9043201795399289 0.9079199369108867 0.28904822\n",
      "0.9043166005835266 0.9078823838672124 0.28905383\n",
      "0.9043504283095799 0.9078823838672124 0.28907207\n",
      "0.9043468502169685 0.9078448308235383 0.28911078\n",
      "0.9043806816056265 0.9078448308235383 0.28913686\n",
      "0.9044145155256267 0.9078448308235383 0.28918537\n",
      "0.9044109394290845 0.907807277779864 0.28953278\n",
      "0.9044447770128704 0.907807277779864 0.28972152\n",
      "0.9044412017809705 0.9077697247361899 0.2897247\n",
      "0.9044376262815236 0.9077321716925156 0.2897507\n",
      "0.9044340505144995 0.9076946186488415 0.2898271\n",
      "0.9044678940278401 0.9076946186488415 0.28983405\n",
      "0.9045017400740935 0.9076946186488415 0.2899501\n",
      "0.9044981663049173 0.9076570656051673 0.28995994\n",
      "0.9044945922682535 0.9076195125614931 0.29006898\n",
      "0.9044910179640718 0.907581959517819 0.29008663\n",
      "0.9044874433923425 0.9075444064741447 0.29020223\n",
      "0.9045212965042294 0.9075444064741447 0.29022205\n",
      "0.9045177227982184 0.9075068534304706 0.29022893\n",
      "0.9045515795777811 0.9075068534304706 0.29024854\n",
      "0.9045854388920083 0.9075068534304706 0.29028285\n",
      "0.9046193007411844 0.9075068534304706 0.29056516\n",
      "0.9046531651255942 0.9075068534304706 0.29076463\n",
      "0.9046870320455226 0.9075068534304706 0.29084378\n",
      "0.9047209015012542 0.9075068534304706 0.2908909\n",
      "0.904717334331711 0.9074693003867963 0.2909883\n",
      "0.9047137668950541 0.9074317473431222 0.29099092\n",
      "0.9047476411562079 0.9074317473431222 0.29112938\n",
      "0.9047815179540944 0.9074317473431222 0.29117203\n",
      "0.9048153972889987 0.9074317473431222 0.2911837\n",
      "0.9048492791612057 0.9074317473431222 0.29119286\n",
      "0.9048831635710006 0.9074317473431222 0.29121235\n",
      "0.9048796015428978 0.907394194299448 0.29125014\n",
      "0.9048760392479964 0.9073566412557738 0.29132462\n",
      "0.9049099284670986 0.9073566412557738 0.2913552\n",
      "0.9049438202247191 0.9073566412557738 0.29136726\n",
      "0.9049402599348291 0.9073190882120996 0.29138798\n",
      "0.9049741553674433 0.9073190882120996 0.2914026\n",
      "0.9049705959471102 0.9072815351684254 0.29143718\n",
      "0.9049670362601139 0.9072439821247512 0.2915992\n",
      "0.9050009365049635 0.9072439821247512 0.29161575\n",
      "0.9049973776878699 0.9072064290810771 0.29162565\n",
      "0.9049938186041284 0.9071688760374028 0.29163063\n",
      "0.904990259253709 0.9071313229937287 0.2916634\n",
      "0.9049866996365816 0.9070937699500544 0.2916985\n",
      "0.9049831397527164 0.9070562169063803 0.29209912\n",
      "0.9049795796020833 0.907018663862706 0.29214862\n",
      "0.9050134892086331 0.907018663862706 0.2924683\n",
      "0.9050099299284295 0.9069811108190319 0.2925503\n",
      "0.90504384321367 0.9069811108190319 0.2926161\n",
      "0.9050777590406596 0.9069811108190319 0.2927194\n",
      "0.9051116774096837 0.9069811108190319 0.2927308\n",
      "0.9051455983210284 0.9069811108190319 0.2928234\n",
      "0.9051795217749794 0.9069811108190319 0.29285377\n",
      "0.9052134477718227 0.9069811108190319 0.29289266\n",
      "0.9052098950524737 0.9069435577753577 0.29292506\n",
      "0.9052063420667941 0.9069060047316835 0.29295012\n",
      "0.9052402728840243 0.9069060047316835 0.29295668\n",
      "0.90527420624508 0.9069060047316835 0.293098\n",
      "0.9053081421502475 0.9069060047316835 0.29327258\n",
      "0.9053420805998126 0.9069060047316835 0.29329014\n",
      "0.9053760215940616 0.9069060047316835 0.29333383\n",
      "0.9054099651332809 0.9069060047316835 0.29336384\n",
      "0.9054439112177565 0.9069060047316835 0.29337177\n",
      "0.9054403659405347 0.9068684516880093 0.29348555\n",
      "0.9054368203974503 0.9068308986443351 0.29361552\n",
      "0.9054707713075106 0.9068308986443351 0.29361576\n",
      "0.9055047247637618 0.9068308986443351 0.2936228\n",
      "0.9055011812352346 0.9067933456006609 0.29364392\n",
      "0.905497637440936 0.9067557925569868 0.2936487\n",
      "0.9054940933808363 0.9067182395133125 0.29378712\n",
      "0.9054905490549054 0.9066806864696384 0.29379037\n",
      "0.9054870044631137 0.9066431334259641 0.29386494\n",
      "0.9055209661690796 0.9066431334259641 0.29387897\n",
      "0.9055549304227148 0.9066431334259641 0.2938972\n",
      "0.9055513878469618 0.90660558038229 0.2939521\n",
      "0.9055853557897896 0.90660558038229 0.29397273\n",
      "0.9055818140895792 0.9065680273386157 0.29402804\n",
      "0.9055782721236448 0.9065304742949416 0.29405054\n",
      "0.9056122448979592 0.9065304742949416 0.29412955\n",
      "0.9056462202213469 0.9065304742949416 0.29414096\n",
      "0.9056426802731298 0.9064929212512675 0.29415017\n",
      "0.905676659287885 0.9064929212512675 0.29431775\n",
      "0.9056731202161189 0.9064553682075932 0.29435867\n",
      "0.9056695808787663 0.9064178151639191 0.29440996\n",
      "0.9056660412757974 0.9063802621202448 0.2944245\n",
      "0.9057000262674022 0.9063802621202448 0.29460695\n",
      "0.9057340138096668 0.9063802621202448 0.29460964\n",
      "0.9057304762262168 0.9063427090765707 0.29468682\n",
      "0.9057644674622832 0.9063427090765707 0.29488286\n",
      "0.9057984612497655 0.9063427090765707 0.29511505\n",
      "0.9057949256868338 0.9063051560328965 0.29538482\n",
      "0.9058289231693127 0.9063051560328965 0.2954418\n",
      "0.9058629232039637 0.9063051560328965 0.2955068\n",
      "0.9058593896625502 0.9062676029892223 0.29557994\n",
      "0.9058933933933934 0.9062676029892223 0.2955923\n",
      "0.9058898607305079 0.9062300499455481 0.2955961\n",
      "0.9059238681582702 0.9062300499455481 0.2956868\n",
      "0.9059578781394301 0.9062300499455481 0.29569387\n",
      "0.9059543474996246 0.9061924969018739 0.29574344\n",
      "0.9059508165947062 0.9061549438581997 0.2957885\n",
      "0.9059472854246452 0.9061173908145255 0.29583898\n",
      "0.9059437539894116 0.9060798377708513 0.2958499\n",
      "0.9059402222889756 0.9060422847271772 0.29595527\n",
      "0.9059742405467313 0.9060422847271772 0.29596552\n",
      "0.9060082613593692 0.9060422847271772 0.29608154\n",
      "0.9060422847271772 0.9060422847271772 0.29615864\n",
      "0.9060763106504431 0.9060422847271772 0.29618558\n",
      "0.9060727832651069 0.9060047316835029 0.2962059\n",
      "0.9060692556148126 0.9059671786398288 0.29626274\n",
      "0.9061032863849765 0.9059671786398288 0.29635298\n",
      "0.9061373197115384 0.9059671786398288 0.29638487\n",
      "0.9061337940878188 0.9059296255961545 0.29654482\n",
      "0.9061678311171212 0.9059296255961545 0.2965577\n",
      "0.9062018707035798 0.9059296255961545 0.29659933\n",
      "0.9062359128474831 0.9059296255961545 0.29661715\n",
      "0.9062699575491191 0.9059296255961545 0.29670158\n",
      "0.906304004808776 0.9059296255961545 0.29676473\n",
      "0.9063004846526656 0.9058920725524804 0.29681614\n",
      "0.9063345356176736 0.9058920725524804 0.29688326\n",
      "0.9063310163441668 0.9058545195088062 0.29694733\n",
      "0.9063274968061922 0.905816966465132 0.2970152\n",
      "0.90632397700372 0.9057794134214578 0.29708442\n",
      "0.9063204569367203 0.9057418603777836 0.29712096\n",
      "0.9063169366051633 0.9057043073341094 0.29712453\n",
      "0.9063509958662157 0.9057043073341094 0.29717425\n",
      "0.9063474764177534 0.9056667542904352 0.29745498\n",
      "0.9063815393866507 0.9056667542904352 0.2974719\n",
      "0.9063780208215882 0.905629201246761 0.29748222\n",
      "0.9063745019920318 0.9055916482030869 0.2975238\n",
      "0.9064085698177035 0.9055916482030869 0.29752395\n",
      "0.9064426402044805 0.9055916482030869 0.29774925\n",
      "0.9064391234071345 0.9055540951594127 0.29775348\n",
      "0.9064731975039471 0.9055540951594127 0.2977983\n",
      "0.9064696815909177 0.9055165421157385 0.29790562\n",
      "0.9065037593984963 0.9055165421157385 0.29795882\n",
      "0.9065378397684124 0.9055165421157385 0.29804868\n",
      "0.9065343258891646 0.9054789890720643 0.29806703\n",
      "0.9065684099710494 0.9054789890720643 0.2983045\n",
      "0.9066024966160325 0.9054789890720643 0.29830715\n",
      "0.9066365858244031 0.9054789890720643 0.29846415\n",
      "0.9066330751297285 0.9054414360283901 0.2984919\n",
      "0.9066295641710225 0.9054038829847159 0.29850173\n",
      "0.9066636582430806 0.9054038829847159 0.29853213\n",
      "0.9066601481704336 0.9053663299410417 0.29861826\n",
      "0.9066566378337721 0.9053287768973676 0.29863346\n",
      "0.9066907367708451 0.9053287768973676 0.298663\n",
      "0.9066872273205958 0.9052912238536933 0.298671\n",
      "0.9066837176063489 0.9052536708100192 0.2988298\n",
      "0.9067178214097645 0.9052536708100192 0.2988683\n",
      "0.9067143125822832 0.9052161177663449 0.29890493\n",
      "0.9067484201023172 0.9052161177663449 0.29897046\n",
      "0.906744912161908 0.9051785647226708 0.29903984\n",
      "0.9067790233992927 0.9051785647226708 0.29912442\n",
      "0.9067755163462624 0.9051410116789966 0.29913834\n",
      "0.9068096313017306 0.9051410116789966 0.29916215\n",
      "0.9068437488242598 0.9051410116789966 0.29918212\n",
      "0.9068402438106705 0.9051034586353224 0.2992553\n",
      "0.9068367385333183 0.9050659055916482 0.29929513\n",
      "0.9068332329921734 0.905028352547974 0.29932684\n",
      "0.906829727187206 0.9049907995042998 0.29936907\n",
      "0.9068638518853014 0.9049907995042998 0.29948583\n",
      "0.9068979791517706 0.9049907995042998 0.2994985\n",
      "0.9069321089869035 0.9049907995042998 0.2995547\n",
      "0.9069286063753716 0.9049532464606256 0.29959917\n",
      "0.9069251035001882 0.9049156934169514 0.29989526\n",
      "0.9069216003613233 0.9048781403732773 0.299923\n",
      "0.9069180969587474 0.904840587329603 0.30001727\n",
      "0.9069522339744797 0.904840587329603 0.30016705\n",
      "0.9069863735601897 0.904840587329603 0.30019483\n",
      "0.9069828722002635 0.9048030342859289 0.30023232\n",
      "0.9069793705767204 0.9047654812422546 0.30025238\n",
      "0.9069758686895305 0.9047279281985805 0.30033302\n",
      "0.9069723665386643 0.9046903751549064 0.3003754\n",
      "0.9070065133089869 0.9046903751549064 0.30039275\n",
      "0.9070030120481928 0.9046528221112321 0.3004693\n",
      "0.9069995105237396 0.904615269067558 0.30052838\n",
      "0.9070336621733565 0.904615269067558 0.3007277\n",
      "0.9070678163949242 0.904615269067558 0.3007526\n",
      "0.9070643169151981 0.9045777160238837 0.30081725\n",
      "0.9070608171719073 0.9045401629802096 0.30105513\n",
      "0.9070573171650222 0.9045026099365353 0.30111796\n",
      "0.9070914774225135 0.9045026099365353 0.30113453\n",
      "0.9071256402530883 0.9045026099365353 0.30115834\n",
      "0.9071598056570374 0.9045026099365353 0.3011896\n",
      "0.9071563088512241 0.9044650568928612 0.30119833\n",
      "0.9071904779841049 0.9044650568928612 0.30124545\n",
      "0.9071869820702124 0.904427503849187 0.30133268\n",
      "0.9071834858929446 0.9043899508055128 0.30143377\n",
      "0.9071799894522715 0.9043523977618386 0.30151057\n",
      "0.9072141646261066 0.9043523977618386 0.30157775\n",
      "0.9072483423749247 0.9043523977618386 0.30168673\n",
      "0.9072825226990167 0.9043523977618386 0.30173102\n",
      "0.9073167055986738 0.9043523977618386 0.30177635\n",
      "0.9073508910741871 0.9043523977618386 0.30177715\n",
      "0.9073850791258478 0.9043523977618386 0.30179125\n",
      "0.9073815893590564 0.9043148447181644 0.30193108\n",
      "0.9073780993292637 0.9042772916744902 0.3020332\n",
      "0.9073746090364397 0.9042397386308161 0.3020916\n",
      "0.9073711184805547 0.9042021855871418 0.3021245\n",
      "0.9073676276615791 0.9041646325434677 0.3021371\n",
      "0.9073641365794829 0.9041270794997934 0.30213803\n",
      "0.9073606452342367 0.9040895264561193 0.30215117\n",
      "0.9073948439620081 0.9040895264561193 0.3022497\n",
      "0.9074290452677999 0.9040895264561193 0.3024813\n",
      "0.9074632491519035 0.9040895264561193 0.30250245\n",
      "0.9074974556146104 0.9040895264561193 0.30256027\n",
      "0.9075316646562123 0.9040895264561193 0.30258003\n",
      "0.9075658762770008 0.9040895264561193 0.30261284\n",
      "0.9076000904772676 0.9040895264561193 0.30262348\n",
      "0.9076343072573044 0.9040895264561193 0.30270097\n",
      "0.9076685266174032 0.9040895264561193 0.3027214\n",
      "0.9077027485578555 0.9040895264561193 0.30275452\n",
      "0.907699268531785 0.904051973412445 0.30320105\n",
      "0.9076957882432789 0.9040144203687709 0.30326384\n",
      "0.9076923076923077 0.9039768673250967 0.30327055\n",
      "0.9076888268788416 0.9039393142814225 0.3033538\n",
      "0.9076853458028509 0.9039017612377483 0.30336058\n",
      "0.907719576120979 0.9039017612377483 0.30348632\n",
      "0.9077538090209685 0.9039017612377483 0.30353713\n",
      "0.9077880445031115 0.9039017612377483 0.30366743\n",
      "0.9078222825677 0.9039017612377483 0.30371842\n",
      "0.9078565232150266 0.9039017612377483 0.30378407\n",
      "0.9078530476765239 0.9038642081940741 0.30384895\n",
      "0.9078495718758252 0.9038266551504 0.3039539\n",
      "0.9078838174273859 0.9038266551504 0.3039582\n",
      "0.9078803425251801 0.9037891021067257 0.30397326\n",
      "0.9078768673607968 0.9037515490630516 0.30407417\n",
      "0.9079111178179349 0.9037515490630516 0.3040941\n",
      "0.9079076435524033 0.9037139960193774 0.3041614\n",
      "0.9079041690247123 0.9036764429757032 0.30442953\n",
      "0.9079384243887715 0.9036764429757032 0.30445734\n",
      "0.9079349507602913 0.903638889932029 0.3045114\n",
      "0.9079692098709531 0.903638889932029 0.30466628\n",
      "0.9080034715671107 0.903638889932029 0.30467877\n",
      "0.9080377358490566 0.903638889932029 0.3047763\n",
      "0.908034265443979 0.9036013368883548 0.3048166\n",
      "0.9080685334742244 0.9036013368883548 0.30486876\n",
      "0.908065063969506 0.9035637838446806 0.3049506\n",
      "0.9080993357487923 0.9035637838446806 0.3049913\n",
      "0.9080958671447443 0.9035262308010065 0.305099\n",
      "0.908130142673813 0.9035262308010065 0.30511418\n",
      "0.9081644207903975 0.9035262308010065 0.30516785\n",
      "0.9081609542503397 0.9034886777573322 0.30518678\n",
      "0.9081574874485674 0.9034511247136581 0.3054509\n",
      "0.9081917704794262 0.9034511247136581 0.30545864\n",
      "0.9081883045792594 0.9034135716699838 0.3054683\n",
      "0.9082225913621262 0.9034135716699838 0.3055565\n",
      "0.9082191263638766 0.9033760186263097 0.30562866\n",
      "0.9082534168994941 0.9033760186263097 0.3057223\n",
      "0.9082877100245422 0.9033760186263097 0.3058032\n",
      "0.9083220057393143 0.9033760186263097 0.30591366\n",
      "0.9083185439716044 0.9033384655826354 0.30592483\n",
      "0.9083528434408278 0.9033384655826354 0.3059318\n",
      "0.9083871455005476 0.9033384655826354 0.30605876\n",
      "0.9084214501510574 0.9033384655826354 0.3061395\n",
      "0.9084179916159976 0.9033009125389613 0.30621687\n",
      "0.9084523000226603 0.9033009125389613 0.30624756\n",
      "0.908486611020886 0.9033009125389613 0.30628502\n",
      "0.9085209246109684 0.9033009125389613 0.30629095\n",
      "0.9085552407932012 0.9033009125389613 0.306353\n",
      "0.9085517866586085 0.9032633594952871 0.30640972\n",
      "0.9085861065991765 0.9032633594952871 0.30644923\n",
      "0.9086204291326685 0.9032633594952871 0.30647752\n",
      "0.9086169770692456 0.9032258064516129 0.3065377\n",
      "0.9086135247449943 0.9031882534079387 0.30654186\n",
      "0.9086100721598851 0.9031507003642645 0.30662608\n",
      "0.9086444007858546 0.9031507003642645 0.30683187\n",
      "0.9086787320058941 0.9031507003642645 0.3069405\n",
      "0.9086752814932366 0.9031131473205903 0.30694744\n",
      "0.9086718307198186 0.9030755942769162 0.306952\n",
      "0.9087061668681983 0.9030755942769162 0.3070095\n",
      "0.9087027170010958 0.9030380412332419 0.30704516\n",
      "0.9086992668732522 0.9030004881895678 0.30705506\n",
      "0.9087336079513246 0.9030004881895678 0.3071227\n",
      "0.9087679516250945 0.9030004881895678 0.30719313\n",
      "0.9088022978948562 0.9030004881895678 0.30723256\n",
      "0.9087988510091466 0.9029629351458935 0.30725572\n",
      "0.9087954038628718 0.9029253821022194 0.3073128\n",
      "0.9088297550650136 0.9029253821022194 0.30733523\n",
      "0.9088263088263089 0.9028878290585451 0.30739492\n",
      "0.9088228623270583 0.902850276014871 0.30743146\n",
      "0.9088194155672324 0.9028127229711969 0.30745652\n",
      "0.9088537728716165 0.9028127229711969 0.3074729\n",
      "0.9088503270197724 0.9027751699275226 0.30748865\n",
      "0.9088468809073724 0.9027376168838485 0.3074914\n",
      "0.908843434534387 0.9027000638401742 0.30751243\n",
      "0.9088777979431337 0.9027000638401742 0.30763057\n",
      "0.908874352478542 0.9026625107965001 0.30765247\n",
      "0.9088709067533842 0.9026249577528259 0.30770886\n",
      "0.9088674607676309 0.9025874047091517 0.3077181\n",
      "0.9088640145212524 0.9025498516654775 0.30779\n",
      "0.9088983852059146 0.9025498516654775 0.30780008\n",
      "0.9089327584902807 0.9025498516654775 0.30788013\n",
      "0.9089671343746455 0.9025498516654775 0.30790058\n",
      "0.908963691376702 0.9025122986218033 0.3079095\n",
      "0.9089980710314308 0.9025122986218033 0.30801895\n",
      "0.9090324532869355 0.9025122986218033 0.3080373\n",
      "0.9090290123690282 0.9024747455781291 0.3080735\n",
      "0.9090633983961265 0.9024747455781291 0.3081147\n",
      "0.9090977870247777 0.9024747455781291 0.3081984\n",
      "0.9090943481879398 0.9024371925344549 0.30821288\n",
      "0.9091287405894147 0.9024371925344549 0.30832747\n",
      "0.9091253026634383 0.9023996394907807 0.3083892\n",
      "0.9091596988384851 0.9023996394907807 0.30863014\n",
      "0.9091562618236853 0.9023620864471066 0.3087275\n",
      "0.9091906617730523 0.9023620864471066 0.30877382\n",
      "0.9091872256697442 0.9023245334034323 0.30877528\n",
      "0.9092216293941802 0.9023245334034323 0.30885077\n",
      "0.9092560357223947 0.9023245334034323 0.30894256\n",
      "0.9092526017029329 0.9022869803597582 0.30901244\n",
      "0.9092491674235543 0.9022494273160839 0.30918375\n",
      "0.9092835787003747 0.9022494273160839 0.30920961\n",
      "0.9092801453334343 0.9022118742724098 0.30940723\n",
      "0.9093145603875705 0.9022118742724098 0.30949023\n",
      "0.9093111279333838 0.9021743212287356 0.30950174\n",
      "0.9093455467655853 0.9021743212287356 0.30956686\n",
      "0.9093799682034976 0.9021743212287356 0.30963477\n",
      "0.9094143922474164 0.9021743212287356 0.30969727\n",
      "0.9094488188976378 0.9021743212287356 0.309783\n",
      "0.9094832481544577 0.9021743212287356 0.3098369\n",
      "0.9094798213068828 0.9021367681850614 0.309847\n",
      "0.9095142543444515 0.9021367681850614 0.30997488\n",
      "0.9095108284113281 0.9020992151413872 0.30999142\n",
      "0.9095074022187725 0.902061662097713 0.31001374\n",
      "0.909503975766755 0.9020241090540388 0.31004843\n",
      "0.9095005490552464 0.9019865560103646 0.3100942\n",
      "0.909497122084217 0.9019490029666904 0.31023028\n",
      "0.9095315636005604 0.9019490029666904 0.31038162\n",
      "0.9095281375444975 0.9019114499230163 0.31052473\n",
      "0.9095625828441583 0.9019114499230163 0.31057104\n",
      "0.9095970307529162 0.9019114499230163 0.31060064\n",
      "0.9096314812710676 0.9019114499230163 0.31070033\n",
      "0.9096659343989092 0.9019114499230163 0.31073698\n",
      "0.9096625127836067 0.901873896879342 0.31076267\n",
      "0.9096969696969697 0.901873896879342 0.3107849\n",
      "0.9096935489980681 0.9018363438356679 0.31078544\n",
      "0.9097280096977044 0.9018363438356679 0.31082085\n",
      "0.9097624730082964 0.9018363438356679 0.310853\n",
      "0.9097969389301409 0.9018363438356679 0.31087226\n",
      "0.9097935215002841 0.9017987907919937 0.3108922\n",
      "0.9098279912101235 0.9017987907919937 0.31096905\n",
      "0.9098624635319971 0.9017987907919937 0.31097314\n",
      "0.9098590481964232 0.9017612377483195 0.31101426\n",
      "0.9098935243075291 0.9017612377483195 0.31101722\n",
      "0.9099280030314513 0.9017612377483195 0.31114617\n",
      "0.9099245897912008 0.9017236847046453 0.3111877\n",
      "0.9099211762922541 0.9016861316609711 0.311294\n",
      "0.9099177625345815 0.901648578617297 0.31142148\n",
      "0.9099143485181536 0.9016110255736227 0.31147194\n",
      "0.9099109342429411 0.9015734725299486 0.31150997\n",
      "0.9099075197089145 0.9015359194862743 0.31159705\n",
      "0.9099041049160445 0.9014983664426002 0.31180623\n",
      "0.9099385944962475 0.9014983664426002 0.31180686\n",
      "0.9099351806224176 0.901460813398926 0.3118709\n",
      "0.9099317664897649 0.9014232603552518 0.31192073\n",
      "0.90992835209826 0.9013857073115776 0.31208614\n",
      "0.9099249374478732 0.9013481542679034 0.31208798\n",
      "0.9099594343556887 0.9013481542679034 0.31212455\n",
      "0.9099560206248104 0.9013106012242292 0.31217855\n",
      "0.9099905213270142 0.9013106012242292 0.31227332\n",
      "0.9100250246454842 0.9013106012242292 0.31235352\n",
      "0.9100216130133091 0.901273048180555 0.3124105\n",
      "0.9100561201274079 0.901273048180555 0.31248426\n",
      "0.910052709415646 0.9012354951368808 0.31251594\n",
      "0.9100492984452029 0.9011979420932067 0.31272435\n",
      "0.9100458872160492 0.9011603890495324 0.3127368\n",
      "0.9100804004854369 0.9011603890495324 0.31278336\n",
      "0.9101149163727387 0.9011603890495324 0.31278753\n",
      "0.9101494348782523 0.9011603890495324 0.31286737\n",
      "0.9101460269296415 0.9011228360058583 0.31287795\n",
      "0.9101805492338036 0.9011228360058583 0.31288955\n",
      "0.9101771422068808 0.901085282962184 0.312891\n",
      "0.9101737349214779 0.9010477299185099 0.31300023\n",
      "0.9102082622055309 0.9010477299185099 0.31302735\n",
      "0.9102427921092564 0.9010477299185099 0.31303182\n",
      "0.9102773246329527 0.9010477299185099 0.3130739\n",
      "0.9103118597769179 0.9010477299185099 0.31308296\n",
      "0.9103084569564063 0.9010101768748358 0.3130963\n",
      "0.9103050538776749 0.9009726238311615 0.31312943\n",
      "0.9103395940049327 0.9009726238311615 0.3133162\n",
      "0.910374136753434 0.9009726238311615 0.3133175\n",
      "0.9103707357796076 0.9009350707874874 0.31334653\n",
      "0.9103673345476624 0.9008975177438131 0.31336173\n",
      "0.9104018822815073 0.9008975177438131 0.31337267\n",
      "0.9103984819734345 0.900859964700139 0.3134057\n",
      "0.9104330335117082 0.900859964700139 0.31343225\n",
      "0.9104675876726886 0.900859964700139 0.3135047\n",
      "0.9105021444566744 0.900859964700139 0.31357136\n",
      "0.9105367038639641 0.900859964700139 0.313573\n",
      "0.9105333080280889 0.9008224116564647 0.313611\n",
      "0.9105299119344064 0.9007848586127906 0.3136359\n",
      "0.9105265155828873 0.9007473055691164 0.31370005\n",
      "0.9105610811631615 0.9007473055691164 0.31374383\n",
      "0.9105576857370639 0.9007097525254422 0.3138056\n",
      "0.9105542900531511 0.900672199481768 0.31380644\n",
      "0.9105888606249288 0.900672199481768 0.3138075\n",
      "0.9105854658668084 0.9006346464380938 0.3138478\n",
      "0.9105820708508942 0.9005970933944196 0.3138824\n",
      "0.9106166464155528 0.9005970933944196 0.31388608\n",
      "0.9106512246060376 0.9005970933944196 0.31391087\n",
      "0.9106858054226475 0.9005970933944196 0.3139667\n",
      "0.9107203888656819 0.9005970933944196 0.3140114\n",
      "0.9107549749354398 0.9005970933944196 0.31403005\n",
      "0.9107895636322205 0.9005970933944196 0.31403172\n",
      "0.9107861754652488 0.9005595403507455 0.31404677\n",
      "0.9108207679744769 0.9005595403507455 0.31413537\n",
      "0.9108173807353388 0.9005219873070712 0.31422836\n",
      "0.9108519770577734 0.9005219873070712 0.31433016\n",
      "0.9108865760085088 0.9005219873070712 0.314383\n",
      "0.9108831908831909 0.9004844342633971 0.31440404\n",
      "0.9109177936483817 0.9004844342633971 0.3144255\n",
      "0.9109144094518102 0.9004468812197228 0.31447527\n",
      "0.9109110249981004 0.9004093281760487 0.31448102\n",
      "0.9109456327647126 0.9004093281760487 0.31458494\n",
      "0.9109802431610943 0.9004093281760487 0.3146217\n",
      "0.9110148561875451 0.9004093281760487 0.31465414\n",
      "0.9110114750360969 0.9003717751323744 0.31470338\n",
      "0.9110080936276931 0.9003342220887003 0.3147502\n",
      "0.9110047119623043 0.9002966690450261 0.31478947\n",
      "0.9110013300399012 0.9002591160013519 0.31481346\n",
      "0.9110359504446303 0.9002591160013519 0.31486464\n",
      "0.911032569452362 0.9002215629576777 0.3149629\n",
      "0.9110671936758893 0.9002215629576777 0.3149877\n",
      "0.9110638136140777 0.9001840099140035 0.31505114\n",
      "0.9110604332953249 0.9001464568703293 0.3152207\n",
      "0.9110950625261317 0.9001464568703293 0.31529632\n",
      "0.9110916831382089 0.9001089038266552 0.31531835\n",
      "0.9111263161896074 0.9001089038266552 0.31543544\n",
      "0.9111229377328366 0.900071350782981 0.31554374\n",
      "0.9111195590191978 0.9000337977393068 0.3156346\n",
      "0.911154197080292 0.9000337977393068 0.31563842\n",
      "0.9111888377751587 0.9000337977393068 0.31565976\n"
     ]
    }
   ],
   "source": [
    "for pre, rec, thr in zip(precision, recall, threshold):\n",
    "    if (pre >= 0.9) & (rec >= 0.9):\n",
    "        print(pre, rec, thr)"
   ]
  },
  {
   "cell_type": "markdown",
   "id": "0373f7bd",
   "metadata": {},
   "source": [
    "Best threshold = 0.31565976"
   ]
  },
  {
   "cell_type": "code",
   "execution_count": 83,
   "id": "627e23fe",
   "metadata": {},
   "outputs": [],
   "source": [
    "threshold_new = 0.31565976"
   ]
  },
  {
   "cell_type": "code",
   "execution_count": 84,
   "id": "b0710bb1",
   "metadata": {},
   "outputs": [],
   "source": [
    "pred_new = np.where(logits_np>=threshold_new, 1, 0)"
   ]
  },
  {
   "cell_type": "code",
   "execution_count": 85,
   "id": "b61ea6e2",
   "metadata": {},
   "outputs": [],
   "source": [
    "acc_new = accuracy_score(target_np, pred_new)"
   ]
  },
  {
   "cell_type": "code",
   "execution_count": 86,
   "id": "b1152ece",
   "metadata": {},
   "outputs": [],
   "source": [
    "f1_new = f1_score(target_np, pred_new)"
   ]
  },
  {
   "cell_type": "code",
   "execution_count": 87,
   "id": "ead1dc7b",
   "metadata": {},
   "outputs": [
    {
     "data": {
      "text/plain": [
       "(0.9065270244997194, 0.9055769666742236)"
      ]
     },
     "execution_count": 87,
     "metadata": {},
     "output_type": "execute_result"
    }
   ],
   "source": [
    "acc_new, f1_new"
   ]
  },
  {
   "cell_type": "code",
   "execution_count": null,
   "id": "50e7b650",
   "metadata": {},
   "outputs": [],
   "source": []
  }
 ],
 "metadata": {
  "kernelspec": {
   "display_name": "Python 3 (ipykernel)",
   "language": "python",
   "name": "python3"
  },
  "language_info": {
   "codemirror_mode": {
    "name": "ipython",
    "version": 3
   },
   "file_extension": ".py",
   "mimetype": "text/x-python",
   "name": "python",
   "nbconvert_exporter": "python",
   "pygments_lexer": "ipython3",
   "version": "3.9.12"
  },
  "varInspector": {
   "cols": {
    "lenName": 16,
    "lenType": 16,
    "lenVar": 40
   },
   "kernels_config": {
    "python": {
     "delete_cmd_postfix": "",
     "delete_cmd_prefix": "del ",
     "library": "var_list.py",
     "varRefreshCmd": "print(var_dic_list())"
    },
    "r": {
     "delete_cmd_postfix": ") ",
     "delete_cmd_prefix": "rm(",
     "library": "var_list.r",
     "varRefreshCmd": "cat(var_dic_list()) "
    }
   },
   "types_to_exclude": [
    "module",
    "function",
    "builtin_function_or_method",
    "instance",
    "_Feature"
   ],
   "window_display": false
  }
 },
 "nbformat": 4,
 "nbformat_minor": 5
}
