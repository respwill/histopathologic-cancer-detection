{
 "cells": [
  {
   "cell_type": "code",
   "execution_count": 1,
   "id": "1fd62a32",
   "metadata": {},
   "outputs": [],
   "source": [
    "import os\n",
    "import torch\n",
    "from torch import nn\n",
    "import torch.nn.functional as F\n",
    "from torch.utils.data import DataLoader, random_split, Dataset, Subset\n",
    "from torchvision import transforms, models\n",
    "import pytorch_lightning as pl\n",
    "from pytorch_lightning.utilities.model_summary import ModelSummary\n",
    "from pytorch_lightning.loggers import WandbLogger\n",
    "from PIL import Image\n",
    "import pandas as pd\n",
    "from sklearn.model_selection import train_test_split\n",
    "from torch.optim.lr_scheduler import ReduceLROnPlateau, CosineAnnealingLR\n",
    "import wandb\n",
    "import torchmetrics"
   ]
  },
  {
   "cell_type": "code",
   "execution_count": 2,
   "id": "0b71d7f4",
   "metadata": {},
   "outputs": [],
   "source": [
    "class ImageEncoder(pl.LightningModule):\n",
    "    def __init__(self, input_shape, num_classes, learning_rate=2e-4):\n",
    "        super().__init__()\n",
    "        \n",
    "        self.save_hyperparameters()\n",
    "        self.learning_rate = learning_rate\n",
    "        \n",
    "        self.encoder = nn.Sequential(\n",
    "            nn.Conv2d(in_channels=3, out_channels=6, kernel_size=5, stride=1),\n",
    "            nn.ReLU(),\n",
    "            nn.MaxPool2d(kernel_size=2, stride=2),\n",
    "            nn.Conv2d(in_channels=6, out_channels=16, kernel_size=5, stride=1),\n",
    "            nn.ReLU(),\n",
    "            nn.MaxPool2d(kernel_size=2, stride=2),\n",
    "            nn.Conv2d(in_channels=16, out_channels=32, kernel_size=5, stride=1),\n",
    "            nn.ReLU(),\n",
    "            nn.MaxPool2d(kernel_size=2, stride=2)\n",
    "        )\n",
    "        n_sizes = self._get_conv_output((3,96,96))\n",
    "        \n",
    "        self.dense = nn.Sequential(\n",
    "            nn.Flatten(),\n",
    "            nn.Linear(n_sizes, 240),\n",
    "            nn.ReLU(),\n",
    "            nn.Linear(240, 120),\n",
    "            nn.ReLU(),\n",
    "            nn.Linear(120, 80),\n",
    "            nn.ReLU(),\n",
    "            nn.Linear(80, 1)\n",
    "        )\n",
    "        \n",
    "        self.accuracy = torchmetrics.Accuracy(task='binary')\n",
    "    \n",
    "    def forward(self, x):\n",
    "        x = self.encoder(x)\n",
    "        x = self.dense(x)\n",
    "        return torch.sigmoid(x)\n",
    "    \n",
    "    def training_step(self, batch, batch_idx):\n",
    "        x, y = batch\n",
    "        y_hat = self(x)\n",
    "        loss = F.binary_cross_entropy(y_hat, y)\n",
    "        pred = y_hat.round()\n",
    "        return {\"loss\":loss, 'pred':pred, 'y':y}\n",
    "    \n",
    "    def training_epoch_end(self, outputs):\n",
    "        avg_loss = torch.stack([x['loss'] for x in outputs]).mean()\n",
    "        pred = torch.cat([x['pred'] for x in outputs]).to(device=torch.device('cuda'))\n",
    "        y = torch.cat([x['y'] for x in outputs]).to(torch.int32)\n",
    "        y = torch.squeeze(y)\n",
    "        \n",
    "        pred = torch.flatten(pred)\n",
    "        y = torch.flatten(y)\n",
    "        \n",
    "        avg_acc = self.accuracy(pred, y)\n",
    "        self.log(\"train_loss\", avg_loss, prog_bar=True, on_epoch=True)\n",
    "        self.log(\"train_acc\", avg_acc, prog_bar=True, on_epoch=True)\n",
    "#         wandb.log({'train_loss': avg_loss, 'train_acc':avg_acc})\n",
    "    \n",
    "    def validation_step(self, batch, batch_idx):\n",
    "        x, y = batch\n",
    "        y_hat = self(x)\n",
    "        pred = y_hat.round()\n",
    "        val_loss = F.binary_cross_entropy(y_hat, y)\n",
    "        return {'val_loss':val_loss,'pred':pred, 'y':y}\n",
    "    \n",
    "    def validation_epoch_end(self, outputs):\n",
    "        avg_loss = torch.stack([x['val_loss'] for x in outputs]).mean()\n",
    "\n",
    "        pred = torch.cat([x['pred'] for x in outputs]).to(device=torch.device('cuda'))\n",
    "        y = torch.cat([x['y'] for x in outputs]).to(torch.int32)\n",
    "        y = torch.squeeze(y)\n",
    "        \n",
    "        pred = torch.flatten(pred)\n",
    "        y = torch.flatten(y)\n",
    "\n",
    "        avg_acc = self.accuracy(pred, y).item()\n",
    "        self.log(\"val_loss\", avg_loss, prog_bar=True, on_epoch=True)\n",
    "        self.log(\"val_acc\", avg_acc, prog_bar=True, on_epoch=True)\n",
    "#         wandb.log({'val_loss': avg_loss, 'val_acc':avg_acc})\n",
    "        \n",
    "    def configure_optimizers(self):\n",
    "        optimizer = torch.optim.Adam(self.parameters(), lr=self.learning_rate)\n",
    "        scheduler = CosineAnnealingLR(optimizer, T_max=100, eta_min=0.00001)\n",
    "        return [optimizer], [scheduler]\n",
    "    \n",
    "    def optimizer_step(self,\n",
    "                     epoch=None, \n",
    "                    batch_idx=None, \n",
    "                    optimizer=None, \n",
    "                    optimizer_idx=None, \n",
    "                    optimizer_closure=None, \n",
    "                    on_tpu=None, \n",
    "                    using_native_amp=None, \n",
    "                    using_lbfgs=None\n",
    "                     ):\n",
    "        optimizer.step(closure=optimizer_closure)\n",
    "        optimizer.zero_grad()\n",
    "#         self.lr_scheduler.step()\n",
    "    \n",
    "    def _get_conv_output(self, shape):\n",
    "        batch_size = 1\n",
    "        input = torch.autograd.Variable(torch.rand(batch_size, *shape))\n",
    "        output_feat = self.encoder(input) \n",
    "        n_size = output_feat.data.view(batch_size, -1).size(1)\n",
    "        return n_size\n",
    "    \n"
   ]
  },
  {
   "cell_type": "code",
   "execution_count": 3,
   "id": "e8eee183",
   "metadata": {},
   "outputs": [],
   "source": [
    "class CancerDataset(Dataset):\n",
    "    def __init__(self, label_dir, img_dir, transform=None):\n",
    "        self.img_labels = pd.read_csv(label_dir)\n",
    "        self.img_dir = img_dir\n",
    "        self.transform = transform\n",
    "    \n",
    "    def __len__(self):\n",
    "        return len(self.img_labels)\n",
    "    \n",
    "    def __getitem__(self, idx):\n",
    "        # label file has two columns: id, label\n",
    "        # to read each images from dir\n",
    "        img_path = self.img_dir + '/'+ self.img_labels.iloc[idx,0] + '.tif'\n",
    "        # read image as numpy array and normalize it\n",
    "        image = Image.open(img_path)\n",
    "#         image_array = self.transform(image) / 255.0\n",
    "        image_array = self.transform(image)\n",
    "        \n",
    "        # read label\n",
    "        label = self.img_labels.iloc[idx, 1].astype('float32')\n",
    "        label = torch.Tensor([label])\n",
    "        # return image array and label\n",
    "        return image_array, label"
   ]
  },
  {
   "cell_type": "code",
   "execution_count": 4,
   "id": "7c77518a",
   "metadata": {},
   "outputs": [],
   "source": [
    "def train_val_dataset(dataset, train_split=0.75, val_split=0.25):\n",
    "    train_idx, val_idx = train_test_split(list(range(len(dataset))), train_size=train_split, test_size=val_split)\n",
    "    datasets = {}\n",
    "    datasets['train'] = Subset(dataset, train_idx)\n",
    "    datasets['val'] = Subset(dataset, val_idx)\n",
    "    return datasets"
   ]
  },
  {
   "cell_type": "code",
   "execution_count": 5,
   "id": "1c0a3829",
   "metadata": {},
   "outputs": [],
   "source": [
    "class DataModule(pl.LightningDataModule):\n",
    "    def __init__(self, batch_size, label_dir, img_dir):\n",
    "        super().__init__()\n",
    "        self.batch_size = batch_size\n",
    "        self.dims = (3, 96, 96)\n",
    "        self.num_classes = 1\n",
    "        self.label_dir = label_dir\n",
    "        self.img_dir = img_dir\n",
    "        self.transform = transforms.Compose([\n",
    "           transforms.RandomHorizontalFlip(),\n",
    "           transforms.ToTensor(),\n",
    "           transforms.Normalize((0.5, 0.5, 0.5), (0.5, 0.5, 0.5))\n",
    "       ])\n",
    "    \n",
    "    def setup(self, stage=None):\n",
    "        data = CancerDataset(label_dir=self.label_dir,\n",
    "                          img_dir=self.img_dir,\n",
    "                          transform=self.transform\n",
    "                    )\n",
    "        train_n = int(len(data) * wandb.config['data_size'] * 0.7)\n",
    "        val_n = int(len(data) * wandb.config['data_size'] * 0.3)\n",
    "        dataset = train_val_dataset(data, train_split=train_n, val_split=val_n)\n",
    "        self.train_dataset = dataset['train']\n",
    "        self.val_dataset = dataset['val']\n",
    "    \n",
    "    def train_dataloader(self):\n",
    "        return DataLoader(self.train_dataset, batch_size=self.batch_size, shuffle=True)\n",
    "    \n",
    "    def val_dataloader(self):\n",
    "        return DataLoader(self.val_dataset, batch_size=self.batch_size)       "
   ]
  },
  {
   "cell_type": "code",
   "execution_count": 6,
   "id": "7e48f396",
   "metadata": {},
   "outputs": [
    {
     "name": "stderr",
     "output_type": "stream",
     "text": [
      "\u001b[34m\u001b[1mwandb\u001b[0m: Currently logged in as: \u001b[33mrespwill\u001b[0m. Use \u001b[1m`wandb login --relogin`\u001b[0m to force relogin\n"
     ]
    },
    {
     "data": {
      "text/html": [
       "wandb version 0.13.10 is available!  To upgrade, please run:\n",
       " $ pip install wandb --upgrade"
      ],
      "text/plain": [
       "<IPython.core.display.HTML object>"
      ]
     },
     "metadata": {},
     "output_type": "display_data"
    },
    {
     "data": {
      "text/html": [
       "Tracking run with wandb version 0.12.20"
      ],
      "text/plain": [
       "<IPython.core.display.HTML object>"
      ]
     },
     "metadata": {},
     "output_type": "display_data"
    },
    {
     "data": {
      "text/html": [
       "Run data is saved locally in <code>C:\\Users\\jaydenpark\\Documents\\GitHub\\histopathologic-cancer-detection\\wandb\\run-20230217_160836-1qw39nd2</code>"
      ],
      "text/plain": [
       "<IPython.core.display.HTML object>"
      ]
     },
     "metadata": {},
     "output_type": "display_data"
    },
    {
     "data": {
      "text/html": [
       "Syncing run <strong><a href=\"https://wandb.ai/respwill/histopathologic-cancer-classifier/runs/1qw39nd2\" target=\"_blank\">Test1</a></strong> to <a href=\"https://wandb.ai/respwill/histopathologic-cancer-classifier\" target=\"_blank\">Weights & Biases</a> (<a href=\"https://wandb.me/run\" target=\"_blank\">docs</a>)<br/>"
      ],
      "text/plain": [
       "<IPython.core.display.HTML object>"
      ]
     },
     "metadata": {},
     "output_type": "display_data"
    },
    {
     "data": {
      "text/html": [
       "<button onClick=\"this.nextSibling.style.display='block';this.style.display='none';\">Display W&B run</button><iframe src=\"https://wandb.ai/respwill/histopathologic-cancer-classifier/runs/1qw39nd2?jupyter=true\" style=\"border:none;width:100%;height:420px;display:none;\"></iframe>"
      ],
      "text/plain": [
       "<wandb.sdk.wandb_run.Run at 0x1e1272e04c0>"
      ]
     },
     "execution_count": 6,
     "metadata": {},
     "output_type": "execute_result"
    }
   ],
   "source": [
    "wandb.login()\n",
    "wandb.init(\n",
    "#       mode='disabled',\n",
    "      # Set the project where this run will be logged\n",
    "      project=\"histopathologic-cancer-classifier\", \n",
    "      # We pass a run name (otherwise it’ll be randomly assigned, like sunshine-lollypop-10)\n",
    "      name=\"Test1\", \n",
    "      # Track hyperparameters and run metadata\n",
    "      config={\n",
    "      \"learning_rate\": 0.0005,\n",
    "      \"data_size\": 1.0,\n",
    "      \"batch_size\":32,\n",
    "      })"
   ]
  },
  {
   "cell_type": "code",
   "execution_count": 7,
   "id": "2109e7c4",
   "metadata": {},
   "outputs": [
    {
     "name": "stderr",
     "output_type": "stream",
     "text": [
      "C:\\Users\\jaydenpark\\Anaconda3\\envs\\nlp3\\lib\\site-packages\\pytorch_lightning\\loggers\\wandb.py:347: UserWarning: There is a wandb run already in progress and newly created instances of `WandbLogger` will reuse this run. If this is not desired, call `wandb.finish()` before instantiating `WandbLogger`.\n",
      "  rank_zero_warn(\n"
     ]
    }
   ],
   "source": [
    "wandb_logger = WandbLogger()"
   ]
  },
  {
   "cell_type": "code",
   "execution_count": 8,
   "id": "119c091d",
   "metadata": {
    "scrolled": false
   },
   "outputs": [
    {
     "name": "stderr",
     "output_type": "stream",
     "text": [
      "C:\\Users\\jaydenpark\\Anaconda3\\envs\\nlp3\\lib\\site-packages\\pytorch_lightning\\core\\datamodule.py:149: LightningDeprecationWarning: DataModule property `dims` was deprecated in v1.5 and will be removed in v1.7.\n",
      "  rank_zero_deprecation(\"DataModule property `dims` was deprecated in v1.5 and will be removed in v1.7.\")\n"
     ]
    }
   ],
   "source": [
    "dm = DataModule(batch_size=wandb.config['batch_size'], \n",
    "                label_dir=\"./train_labels_balance.csv\", \n",
    "                img_dir=\"../histopathologic-cancer-detection_data/train/\")"
   ]
  },
  {
   "cell_type": "code",
   "execution_count": 9,
   "id": "44b07bda",
   "metadata": {
    "scrolled": false
   },
   "outputs": [
    {
     "name": "stderr",
     "output_type": "stream",
     "text": [
      "C:\\Users\\jaydenpark\\Anaconda3\\envs\\nlp3\\lib\\site-packages\\pytorch_lightning\\core\\datamodule.py:144: LightningDeprecationWarning: DataModule property `dims` was deprecated in v1.5 and will be removed in v1.7.\n",
      "  rank_zero_deprecation(\"DataModule property `dims` was deprecated in v1.5 and will be removed in v1.7.\")\n"
     ]
    }
   ],
   "source": [
    "im_encoder = ImageEncoder(input_shape=dm.dims, num_classes=dm.num_classes, learning_rate=wandb.config['learning_rate'])"
   ]
  },
  {
   "cell_type": "code",
   "execution_count": 10,
   "id": "0ac74475",
   "metadata": {},
   "outputs": [
    {
     "data": {
      "text/plain": [
       "   | Name      | Type       | Params\n",
       "------------------------------------------\n",
       "0  | encoder   | Sequential | 15.7 K\n",
       "1  | encoder.0 | Conv2d     | 456   \n",
       "2  | encoder.1 | ReLU       | 0     \n",
       "3  | encoder.2 | MaxPool2d  | 0     \n",
       "4  | encoder.3 | Conv2d     | 2.4 K \n",
       "5  | encoder.4 | ReLU       | 0     \n",
       "6  | encoder.5 | MaxPool2d  | 0     \n",
       "7  | encoder.6 | Conv2d     | 12.8 K\n",
       "8  | encoder.7 | ReLU       | 0     \n",
       "9  | encoder.8 | MaxPool2d  | 0     \n",
       "10 | dense     | Sequential | 530 K \n",
       "11 | dense.0   | Flatten    | 0     \n",
       "12 | dense.1   | Linear     | 491 K \n",
       "13 | dense.2   | ReLU       | 0     \n",
       "14 | dense.3   | Linear     | 28.9 K\n",
       "15 | dense.4   | ReLU       | 0     \n",
       "16 | dense.5   | Linear     | 9.7 K \n",
       "17 | dense.6   | ReLU       | 0     \n",
       "18 | dense.7   | Linear     | 81    \n",
       "19 | accuracy  | Accuracy   | 0     \n",
       "------------------------------------------\n",
       "546 K     Trainable params\n",
       "0         Non-trainable params\n",
       "546 K     Total params\n",
       "2.185     Total estimated model params size (MB)"
      ]
     },
     "execution_count": 10,
     "metadata": {},
     "output_type": "execute_result"
    }
   ],
   "source": [
    "ModelSummary(im_encoder, max_depth=-1)"
   ]
  },
  {
   "cell_type": "code",
   "execution_count": 11,
   "id": "a0b8c0f8",
   "metadata": {},
   "outputs": [],
   "source": [
    "checkpoint_callback = pl.callbacks.ModelCheckpoint(\n",
    "    dirpath='./check_point/', \n",
    "    filename='{epoch}-{train_loss:.4f}-{val_loss:.4f}', \n",
    "    monitor=\"val_loss\", \n",
    "    mode=\"min\", \n",
    "    save_top_k=5\n",
    ")"
   ]
  },
  {
   "cell_type": "code",
   "execution_count": 12,
   "id": "aa4f9d64",
   "metadata": {
    "scrolled": false
   },
   "outputs": [
    {
     "name": "stderr",
     "output_type": "stream",
     "text": [
      "GPU available: True, used: True\n",
      "TPU available: False, using: 0 TPU cores\n",
      "IPU available: False, using: 0 IPUs\n",
      "HPU available: False, using: 0 HPUs\n"
     ]
    }
   ],
   "source": [
    "trainer = pl.Trainer(accelerator='gpu',\n",
    "                     devices=1,\n",
    "                    max_epochs=200,\n",
    "                     logger=wandb_logger,\n",
    "                    callbacks=[checkpoint_callback])"
   ]
  },
  {
   "cell_type": "code",
   "execution_count": 13,
   "id": "bb58d98e",
   "metadata": {
    "scrolled": false
   },
   "outputs": [
    {
     "name": "stderr",
     "output_type": "stream",
     "text": [
      "C:\\Users\\jaydenpark\\Anaconda3\\envs\\nlp3\\lib\\site-packages\\pytorch_lightning\\callbacks\\model_checkpoint.py:611: UserWarning: Checkpoint directory C:\\Users\\jaydenpark\\Documents\\GitHub\\histopathologic-cancer-detection\\check_point exists and is not empty.\n",
      "  rank_zero_warn(f\"Checkpoint directory {dirpath} exists and is not empty.\")\n",
      "LOCAL_RANK: 0 - CUDA_VISIBLE_DEVICES: [0,1]\n",
      "\n",
      "  | Name     | Type       | Params\n",
      "----------------------------------------\n",
      "0 | encoder  | Sequential | 15.7 K\n",
      "1 | dense    | Sequential | 530 K \n",
      "2 | accuracy | Accuracy   | 0     \n",
      "----------------------------------------\n",
      "546 K     Trainable params\n",
      "0         Non-trainable params\n",
      "546 K     Total params\n",
      "2.185     Total estimated model params size (MB)\n"
     ]
    },
    {
     "data": {
      "application/vnd.jupyter.widget-view+json": {
       "model_id": "",
       "version_major": 2,
       "version_minor": 0
      },
      "text/plain": [
       "Sanity Checking: 0it [00:00, ?it/s]"
      ]
     },
     "metadata": {},
     "output_type": "display_data"
    },
    {
     "name": "stderr",
     "output_type": "stream",
     "text": [
      "C:\\Users\\jaydenpark\\Anaconda3\\envs\\nlp3\\lib\\site-packages\\pytorch_lightning\\trainer\\connectors\\data_connector.py:240: PossibleUserWarning: The dataloader, val_dataloader 0, does not have many workers which may be a bottleneck. Consider increasing the value of the `num_workers` argument` (try 24 which is the number of cpus on this machine) in the `DataLoader` init to improve performance.\n",
      "  rank_zero_warn(\n",
      "C:\\Users\\jaydenpark\\Anaconda3\\envs\\nlp3\\lib\\site-packages\\pytorch_lightning\\trainer\\connectors\\data_connector.py:240: PossibleUserWarning: The dataloader, train_dataloader, does not have many workers which may be a bottleneck. Consider increasing the value of the `num_workers` argument` (try 24 which is the number of cpus on this machine) in the `DataLoader` init to improve performance.\n",
      "  rank_zero_warn(\n"
     ]
    },
    {
     "data": {
      "application/vnd.jupyter.widget-view+json": {
       "model_id": "f39c1c0a7bb1436f8b5d0733c813dc74",
       "version_major": 2,
       "version_minor": 0
      },
      "text/plain": [
       "Training: 0it [00:00, ?it/s]"
      ]
     },
     "metadata": {},
     "output_type": "display_data"
    },
    {
     "data": {
      "application/vnd.jupyter.widget-view+json": {
       "model_id": "",
       "version_major": 2,
       "version_minor": 0
      },
      "text/plain": [
       "Validation: 0it [00:00, ?it/s]"
      ]
     },
     "metadata": {},
     "output_type": "display_data"
    },
    {
     "data": {
      "application/vnd.jupyter.widget-view+json": {
       "model_id": "",
       "version_major": 2,
       "version_minor": 0
      },
      "text/plain": [
       "Validation: 0it [00:00, ?it/s]"
      ]
     },
     "metadata": {},
     "output_type": "display_data"
    },
    {
     "data": {
      "application/vnd.jupyter.widget-view+json": {
       "model_id": "",
       "version_major": 2,
       "version_minor": 0
      },
      "text/plain": [
       "Validation: 0it [00:00, ?it/s]"
      ]
     },
     "metadata": {},
     "output_type": "display_data"
    },
    {
     "data": {
      "application/vnd.jupyter.widget-view+json": {
       "model_id": "",
       "version_major": 2,
       "version_minor": 0
      },
      "text/plain": [
       "Validation: 0it [00:00, ?it/s]"
      ]
     },
     "metadata": {},
     "output_type": "display_data"
    },
    {
     "data": {
      "application/vnd.jupyter.widget-view+json": {
       "model_id": "",
       "version_major": 2,
       "version_minor": 0
      },
      "text/plain": [
       "Validation: 0it [00:00, ?it/s]"
      ]
     },
     "metadata": {},
     "output_type": "display_data"
    },
    {
     "data": {
      "application/vnd.jupyter.widget-view+json": {
       "model_id": "",
       "version_major": 2,
       "version_minor": 0
      },
      "text/plain": [
       "Validation: 0it [00:00, ?it/s]"
      ]
     },
     "metadata": {},
     "output_type": "display_data"
    },
    {
     "data": {
      "application/vnd.jupyter.widget-view+json": {
       "model_id": "",
       "version_major": 2,
       "version_minor": 0
      },
      "text/plain": [
       "Validation: 0it [00:00, ?it/s]"
      ]
     },
     "metadata": {},
     "output_type": "display_data"
    },
    {
     "data": {
      "application/vnd.jupyter.widget-view+json": {
       "model_id": "",
       "version_major": 2,
       "version_minor": 0
      },
      "text/plain": [
       "Validation: 0it [00:00, ?it/s]"
      ]
     },
     "metadata": {},
     "output_type": "display_data"
    },
    {
     "data": {
      "application/vnd.jupyter.widget-view+json": {
       "model_id": "",
       "version_major": 2,
       "version_minor": 0
      },
      "text/plain": [
       "Validation: 0it [00:00, ?it/s]"
      ]
     },
     "metadata": {},
     "output_type": "display_data"
    },
    {
     "data": {
      "application/vnd.jupyter.widget-view+json": {
       "model_id": "",
       "version_major": 2,
       "version_minor": 0
      },
      "text/plain": [
       "Validation: 0it [00:00, ?it/s]"
      ]
     },
     "metadata": {},
     "output_type": "display_data"
    },
    {
     "data": {
      "application/vnd.jupyter.widget-view+json": {
       "model_id": "",
       "version_major": 2,
       "version_minor": 0
      },
      "text/plain": [
       "Validation: 0it [00:00, ?it/s]"
      ]
     },
     "metadata": {},
     "output_type": "display_data"
    },
    {
     "name": "stderr",
     "output_type": "stream",
     "text": [
      "C:\\Users\\jaydenpark\\Anaconda3\\envs\\nlp3\\lib\\site-packages\\pytorch_lightning\\trainer\\trainer.py:726: UserWarning: Detected KeyboardInterrupt, attempting graceful shutdown...\n",
      "  rank_zero_warn(\"Detected KeyboardInterrupt, attempting graceful shutdown...\")\n"
     ]
    }
   ],
   "source": [
    "trainer.fit(im_encoder, dm)"
   ]
  }
 ],
 "metadata": {
  "kernelspec": {
   "display_name": "Python 3 (ipykernel)",
   "language": "python",
   "name": "python3"
  },
  "language_info": {
   "codemirror_mode": {
    "name": "ipython",
    "version": 3
   },
   "file_extension": ".py",
   "mimetype": "text/x-python",
   "name": "python",
   "nbconvert_exporter": "python",
   "pygments_lexer": "ipython3",
   "version": "3.9.12"
  },
  "varInspector": {
   "cols": {
    "lenName": 16,
    "lenType": 16,
    "lenVar": 40
   },
   "kernels_config": {
    "python": {
     "delete_cmd_postfix": "",
     "delete_cmd_prefix": "del ",
     "library": "var_list.py",
     "varRefreshCmd": "print(var_dic_list())"
    },
    "r": {
     "delete_cmd_postfix": ") ",
     "delete_cmd_prefix": "rm(",
     "library": "var_list.r",
     "varRefreshCmd": "cat(var_dic_list()) "
    }
   },
   "types_to_exclude": [
    "module",
    "function",
    "builtin_function_or_method",
    "instance",
    "_Feature"
   ],
   "window_display": false
  }
 },
 "nbformat": 4,
 "nbformat_minor": 5
}
