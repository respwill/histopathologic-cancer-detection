{
 "cells": [
  {
   "cell_type": "markdown",
   "id": "8ad975f7",
   "metadata": {},
   "source": [
    "# Problem statement\n",
    "\n",
    "Objective: classify scanned image data to check if it has tumor or not.  "
   ]
  },
  {
   "cell_type": "markdown",
   "id": "0559d64b",
   "metadata": {},
   "source": [
    "# Plan to solve the issue"
   ]
  },
  {
   "cell_type": "markdown",
   "id": "91620ff2",
   "metadata": {},
   "source": [
    "**Package**: Pytorch-lighting  \n",
    "\n",
    "**Model architecture**: Convolutional 2d layer + max pooling + linear layer  \n",
    "Conv2d and max pooling layer would extract features from photos and linear layer would find weight to determine if the photo is tumor or not.  \n",
    "\n",
    "**Preprocessing**: Random horizontal flip + Normalizing  \n",
    "Random horizontal function would increase sample  \n",
    "Normalizing would change range of dataset from -1 to 1 (better than data range 0 to 1)"
   ]
  },
  {
   "cell_type": "markdown",
   "id": "f10fef3f",
   "metadata": {},
   "source": [
    "# Summary"
   ]
  },
  {
   "cell_type": "markdown",
   "id": "b39f46e4",
   "metadata": {},
   "source": [
    "Model performance on Validation set  \n",
    "* Accuracy score: 0.9\n",
    "* F1 score: 0.9\n",
    "\n",
    "Model performance on Kaggle submission\n",
    "* Private score: 0.8118\n",
    "* Public score: 0.8601"
   ]
  },
  {
   "cell_type": "markdown",
   "id": "594a4e72",
   "metadata": {},
   "source": [
    "# Code detail"
   ]
  },
  {
   "cell_type": "markdown",
   "id": "56fb7cd1",
   "metadata": {},
   "source": [
    "Codes: https://github.com/respwill/histopathologic-cancer-detection  \n",
    "I uploaded notebooks on my Github repository for EDA and Classification.    \n",
    "Please refer to below links for detail.\n",
    "* EDA notebook: https://github.com/respwill/histopathologic-cancer-detection/blob/main/EDA.ipynb\n",
    "* Classification notebook: https://github.com/respwill/histopathologic-cancer-detection/blob/main/histopathologic-cancer-classifier.ipynb  "
   ]
  }
 ],
 "metadata": {
  "kernelspec": {
   "display_name": "Python 3 (ipykernel)",
   "language": "python",
   "name": "python3"
  },
  "language_info": {
   "codemirror_mode": {
    "name": "ipython",
    "version": 3
   },
   "file_extension": ".py",
   "mimetype": "text/x-python",
   "name": "python",
   "nbconvert_exporter": "python",
   "pygments_lexer": "ipython3",
   "version": "3.9.12"
  }
 },
 "nbformat": 4,
 "nbformat_minor": 5
}
