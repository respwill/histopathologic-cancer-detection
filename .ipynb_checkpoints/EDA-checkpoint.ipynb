{
 "cells": [
  {
   "cell_type": "markdown",
   "id": "15b67b9a",
   "metadata": {},
   "source": [
    "# Number of dataset"
   ]
  },
  {
   "cell_type": "markdown",
   "id": "9a65d9a6",
   "metadata": {},
   "source": [
    "Train:  220k images  \n",
    "Test:  57.5k images"
   ]
  },
  {
   "cell_type": "markdown",
   "id": "9ec8fd37",
   "metadata": {},
   "source": [
    "## Labels"
   ]
  },
  {
   "cell_type": "code",
   "execution_count": 1,
   "id": "8cbe9077",
   "metadata": {},
   "outputs": [],
   "source": [
    "import pandas as pd"
   ]
  },
  {
   "cell_type": "code",
   "execution_count": 2,
   "id": "7580cf12",
   "metadata": {},
   "outputs": [],
   "source": [
    "labels = pd.read_csv(\"/Users/haeinpark/Downloads/histopathologic-cancer-detection/train_labels.csv\")"
   ]
  },
  {
   "cell_type": "code",
   "execution_count": 3,
   "id": "b0815019",
   "metadata": {},
   "outputs": [
    {
     "data": {
      "text/html": [
       "<div>\n",
       "<style scoped>\n",
       "    .dataframe tbody tr th:only-of-type {\n",
       "        vertical-align: middle;\n",
       "    }\n",
       "\n",
       "    .dataframe tbody tr th {\n",
       "        vertical-align: top;\n",
       "    }\n",
       "\n",
       "    .dataframe thead th {\n",
       "        text-align: right;\n",
       "    }\n",
       "</style>\n",
       "<table border=\"1\" class=\"dataframe\">\n",
       "  <thead>\n",
       "    <tr style=\"text-align: right;\">\n",
       "      <th></th>\n",
       "      <th>id</th>\n",
       "      <th>label</th>\n",
       "    </tr>\n",
       "  </thead>\n",
       "  <tbody>\n",
       "    <tr>\n",
       "      <th>0</th>\n",
       "      <td>f38a6374c348f90b587e046aac6079959adf3835</td>\n",
       "      <td>0</td>\n",
       "    </tr>\n",
       "    <tr>\n",
       "      <th>1</th>\n",
       "      <td>c18f2d887b7ae4f6742ee445113fa1aef383ed77</td>\n",
       "      <td>1</td>\n",
       "    </tr>\n",
       "    <tr>\n",
       "      <th>2</th>\n",
       "      <td>755db6279dae599ebb4d39a9123cce439965282d</td>\n",
       "      <td>0</td>\n",
       "    </tr>\n",
       "    <tr>\n",
       "      <th>3</th>\n",
       "      <td>bc3f0c64fb968ff4a8bd33af6971ecae77c75e08</td>\n",
       "      <td>0</td>\n",
       "    </tr>\n",
       "    <tr>\n",
       "      <th>4</th>\n",
       "      <td>068aba587a4950175d04c680d38943fd488d6a9d</td>\n",
       "      <td>0</td>\n",
       "    </tr>\n",
       "  </tbody>\n",
       "</table>\n",
       "</div>"
      ],
      "text/plain": [
       "                                         id  label\n",
       "0  f38a6374c348f90b587e046aac6079959adf3835      0\n",
       "1  c18f2d887b7ae4f6742ee445113fa1aef383ed77      1\n",
       "2  755db6279dae599ebb4d39a9123cce439965282d      0\n",
       "3  bc3f0c64fb968ff4a8bd33af6971ecae77c75e08      0\n",
       "4  068aba587a4950175d04c680d38943fd488d6a9d      0"
      ]
     },
     "execution_count": 3,
     "metadata": {},
     "output_type": "execute_result"
    }
   ],
   "source": [
    "labels.head()"
   ]
  },
  {
   "cell_type": "markdown",
   "id": "4ba88b40",
   "metadata": {},
   "source": [
    "Label is binary value and Non-tumor data is about 60%, and tumor data is about 40%"
   ]
  },
  {
   "cell_type": "code",
   "execution_count": 4,
   "id": "b2ceabbb",
   "metadata": {},
   "outputs": [
    {
     "data": {
      "text/html": [
       "<div>\n",
       "<style scoped>\n",
       "    .dataframe tbody tr th:only-of-type {\n",
       "        vertical-align: middle;\n",
       "    }\n",
       "\n",
       "    .dataframe tbody tr th {\n",
       "        vertical-align: top;\n",
       "    }\n",
       "\n",
       "    .dataframe thead th {\n",
       "        text-align: right;\n",
       "    }\n",
       "</style>\n",
       "<table border=\"1\" class=\"dataframe\">\n",
       "  <thead>\n",
       "    <tr style=\"text-align: right;\">\n",
       "      <th></th>\n",
       "      <th>id</th>\n",
       "      <th>Prop</th>\n",
       "    </tr>\n",
       "    <tr>\n",
       "      <th>label</th>\n",
       "      <th></th>\n",
       "      <th></th>\n",
       "    </tr>\n",
       "  </thead>\n",
       "  <tbody>\n",
       "    <tr>\n",
       "      <th>0</th>\n",
       "      <td>130908</td>\n",
       "      <td>59.496875</td>\n",
       "    </tr>\n",
       "    <tr>\n",
       "      <th>1</th>\n",
       "      <td>89117</td>\n",
       "      <td>40.503125</td>\n",
       "    </tr>\n",
       "  </tbody>\n",
       "</table>\n",
       "</div>"
      ],
      "text/plain": [
       "           id       Prop\n",
       "label                   \n",
       "0      130908  59.496875\n",
       "1       89117  40.503125"
      ]
     },
     "execution_count": 4,
     "metadata": {},
     "output_type": "execute_result"
    }
   ],
   "source": [
    "rate_df = labels.groupby(by='label').count()\n",
    "rate_df['Prop'] = rate_df['id'] / rate_df['id'].sum() * 100\n",
    "rate_df"
   ]
  },
  {
   "cell_type": "markdown",
   "id": "f5ed85cc",
   "metadata": {},
   "source": [
    "With unbalanced label, model can not train properly.  \n",
    "So reduce some Non-tumor data to make eqaul number of labels  "
   ]
  },
  {
   "cell_type": "code",
   "execution_count": 5,
   "id": "19dda71f",
   "metadata": {},
   "outputs": [],
   "source": [
    "new_label_list = []\n",
    "new_label_list.append(labels[labels['label']==1])\n",
    "new_label_list.append(labels[labels['label']==0].sample(len(labels[labels['label']==1])))\n",
    "new_label = pd.concat(new_label_list)"
   ]
  },
  {
   "cell_type": "code",
   "execution_count": 6,
   "id": "31751ed0",
   "metadata": {},
   "outputs": [
    {
     "data": {
      "text/plain": [
       "1    89117\n",
       "0    89117\n",
       "Name: label, dtype: int64"
      ]
     },
     "execution_count": 6,
     "metadata": {},
     "output_type": "execute_result"
    }
   ],
   "source": [
    "new_label['label'].value_counts()"
   ]
  },
  {
   "cell_type": "code",
   "execution_count": 7,
   "id": "ba096266",
   "metadata": {},
   "outputs": [],
   "source": [
    "new_label.to_csv(\"/Users/haeinpark/Documents/GitHub/histopathologic-cancer-detection/train_labels_balance.csv\", \n",
    "                 index=False)"
   ]
  },
  {
   "cell_type": "markdown",
   "id": "720f9a03",
   "metadata": {},
   "source": [
    "## Images"
   ]
  },
  {
   "cell_type": "code",
   "execution_count": 8,
   "id": "a1827aa4",
   "metadata": {},
   "outputs": [],
   "source": [
    "from PIL import Image\n",
    "import numpy as np"
   ]
  },
  {
   "cell_type": "code",
   "execution_count": 10,
   "id": "c55e04a6",
   "metadata": {},
   "outputs": [],
   "source": [
    "sample_image = Image.open('/Users/haeinpark/Downloads/histopathologic-cancer-detection/train/00001b2b5609af42ab0ab276dd4cd41c3e7745b5.tif')"
   ]
  },
  {
   "cell_type": "code",
   "execution_count": 11,
   "id": "15081b4b",
   "metadata": {},
   "outputs": [
    {
     "data": {
      "image/png": "[encoded data removed]",
      "text/plain": [
       "<PIL.TiffImagePlugin.TiffImageFile image mode=RGB size=96x96>"
      ]
     },
     "execution_count": 11,
     "metadata": {},
     "output_type": "execute_result"
    }
   ],
   "source": [
    "sample_image"
   ]
  },
  {
   "cell_type": "code",
   "execution_count": 12,
   "id": "dfcbcd5c",
   "metadata": {},
   "outputs": [],
   "source": [
    "sample_image_array = np.array(sample_image, dtype=np.float64)"
   ]
  },
  {
   "cell_type": "markdown",
   "id": "c4c03616",
   "metadata": {},
   "source": [
    "Image is 96 X 96 shape and has 3 channels"
   ]
  },
  {
   "cell_type": "code",
   "execution_count": 13,
   "id": "0b54a618",
   "metadata": {},
   "outputs": [
    {
     "data": {
      "text/plain": [
       "(96, 96, 3)"
      ]
     },
     "execution_count": 13,
     "metadata": {},
     "output_type": "execute_result"
    }
   ],
   "source": [
    "sample_image_array.shape"
   ]
  },
  {
   "cell_type": "markdown",
   "id": "54eff566",
   "metadata": {},
   "source": [
    "Each channel's Max value is 255.   \n",
    "we can normalize the image as divide each channel by 255 so that data range becomes 0 to 1.  \n",
    "And then subtract 0.5 and divide by 0.5.  \n",
    "Data range become -1 to 1.  "
   ]
  },
  {
   "cell_type": "code",
   "execution_count": 29,
   "id": "e76b71de",
   "metadata": {},
   "outputs": [
    {
     "data": {
      "text/plain": [
       "(0.0, 255.0)"
      ]
     },
     "execution_count": 29,
     "metadata": {},
     "output_type": "execute_result"
    }
   ],
   "source": [
    "sample_image_array[0].min(), sample_image_array[0].max()"
   ]
  },
  {
   "cell_type": "code",
   "execution_count": 30,
   "id": "7841b56e",
   "metadata": {},
   "outputs": [
    {
     "data": {
      "text/plain": [
       "(1.0, 255.0)"
      ]
     },
     "execution_count": 30,
     "metadata": {},
     "output_type": "execute_result"
    }
   ],
   "source": [
    "sample_image_array[1].min(), sample_image_array[1].max()"
   ]
  },
  {
   "cell_type": "code",
   "execution_count": 31,
   "id": "54cbf8d9",
   "metadata": {},
   "outputs": [
    {
     "data": {
      "text/plain": [
       "(0.0, 255.0)"
      ]
     },
     "execution_count": 31,
     "metadata": {},
     "output_type": "execute_result"
    }
   ],
   "source": [
    "sample_image_array[2].min(), sample_image_array[2].max()"
   ]
  },
  {
   "cell_type": "markdown",
   "id": "65a73f43",
   "metadata": {},
   "source": [
    "### Normalize image"
   ]
  },
  {
   "cell_type": "code",
   "execution_count": 23,
   "id": "af1ea14d",
   "metadata": {},
   "outputs": [],
   "source": [
    "sample_image_array_norm = sample_image_array / 255.\n",
    "sample_image_array_norm = sample_image_array_norm - 0.5\n",
    "sample_image_array_norm = sample_image_array_norm / 0.5"
   ]
  },
  {
   "cell_type": "code",
   "execution_count": 24,
   "id": "37439ab5",
   "metadata": {},
   "outputs": [
    {
     "data": {
      "text/plain": [
       "(-1.0, 1.0)"
      ]
     },
     "execution_count": 24,
     "metadata": {},
     "output_type": "execute_result"
    }
   ],
   "source": [
    "sample_image_array_norm[0].min(), sample_image_array_norm[0].max()"
   ]
  },
  {
   "cell_type": "code",
   "execution_count": 25,
   "id": "f0cd0eee",
   "metadata": {},
   "outputs": [
    {
     "data": {
      "text/plain": [
       "(-0.9921568627450981, 1.0)"
      ]
     },
     "execution_count": 25,
     "metadata": {},
     "output_type": "execute_result"
    }
   ],
   "source": [
    "sample_image_array_norm[1].min(), sample_image_array_norm[1].max()"
   ]
  },
  {
   "cell_type": "code",
   "execution_count": 26,
   "id": "5fb02ede",
   "metadata": {},
   "outputs": [
    {
     "data": {
      "text/plain": [
       "(-1.0, 1.0)"
      ]
     },
     "execution_count": 26,
     "metadata": {},
     "output_type": "execute_result"
    }
   ],
   "source": [
    "sample_image_array_norm[2].min(), sample_image_array_norm[2].max()"
   ]
  },
  {
   "cell_type": "code",
   "execution_count": 27,
   "id": "5b915dcc",
   "metadata": {},
   "outputs": [],
   "source": [
    "norm_image = Image.fromarray(sample_image_array_norm, 'RGB')"
   ]
  },
  {
   "cell_type": "code",
   "execution_count": 28,
   "id": "12f2385b",
   "metadata": {},
   "outputs": [
    {
     "data": {
      "image/png": "[encoded data removed]",
      "text/plain": [
       "<PIL.Image.Image image mode=RGB size=96x96>"
      ]
     },
     "execution_count": 28,
     "metadata": {},
     "output_type": "execute_result"
    }
   ],
   "source": [
    "norm_image"
   ]
  }
 ],
 "metadata": {
  "kernelspec": {
   "display_name": "Python 3 (ipykernel)",
   "language": "python",
   "name": "python3"
  },
  "language_info": {
   "codemirror_mode": {
    "name": "ipython",
    "version": 3
   },
   "file_extension": ".py",
   "mimetype": "text/x-python",
   "name": "python",
   "nbconvert_exporter": "python",
   "pygments_lexer": "ipython3",
   "version": "3.8.16"
  },
  "varInspector": {
   "cols": {
    "lenName": 16,
    "lenType": 16,
    "lenVar": 40
   },
   "kernels_config": {
    "python": {
     "delete_cmd_postfix": "",
     "delete_cmd_prefix": "del ",
     "library": "var_list.py",
     "varRefreshCmd": "print(var_dic_list())"
    },
    "r": {
     "delete_cmd_postfix": ") ",
     "delete_cmd_prefix": "rm(",
     "library": "var_list.r",
     "varRefreshCmd": "cat(var_dic_list()) "
    }
   },
   "types_to_exclude": [
    "module",
    "function",
    "builtin_function_or_method",
    "instance",
    "_Feature"
   ],
   "window_display": false
  }
 },
 "nbformat": 4,
 "nbformat_minor": 5
}
