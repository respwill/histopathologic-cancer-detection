{
 "cells": [
  {
   "cell_type": "code",
   "execution_count": 1,
   "id": "1fd62a32",
   "metadata": {},
   "outputs": [],
   "source": [
    "import os\n",
    "import torch\n",
    "from torch import nn\n",
    "import torch.nn.functional as F\n",
    "from torch.utils.data import DataLoader, random_split, Dataset, Subset\n",
    "from torchvision import transforms, models\n",
    "import pytorch_lightning as pl\n",
    "from pytorch_lightning.utilities.model_summary import ModelSummary\n",
    "from PIL import Image\n",
    "import pandas as pd\n",
    "from sklearn.model_selection import train_test_split\n",
    "from torch.optim.lr_scheduler import ReduceLROnPlateau, CosineAnnealingLR\n",
    "import wandb\n",
    "import torchmetrics"
   ]
  },
  {
   "cell_type": "code",
   "execution_count": 2,
   "id": "a4426dd0",
   "metadata": {},
   "outputs": [
    {
     "name": "stderr",
     "output_type": "stream",
     "text": [
      "\u001b[34m\u001b[1mwandb\u001b[0m: Currently logged in as: \u001b[33mrespwill\u001b[0m. Use \u001b[1m`wandb login --relogin`\u001b[0m to force relogin\n"
     ]
    },
    {
     "data": {
      "text/plain": []
     },
     "execution_count": 2,
     "metadata": {},
     "output_type": "execute_result"
    }
   ],
   "source": [
    "wandb.login()\n",
    "wandb.init(\n",
    "      mode='disabled',\n",
    "      # Set the project where this run will be logged\n",
    "      project=\"histopathologic-cancer-classifier\", \n",
    "      # We pass a run name (otherwise it’ll be randomly assigned, like sunshine-lollypop-10)\n",
    "      name=\"Test4\", \n",
    "      # Track hyperparameters and run metadata\n",
    "      config={\n",
    "      \"learning_rate\": 0.0002,\n",
    "      \"data_size\": 0.3,\n",
    "      \"batch_size\":32,\n",
    "      })"
   ]
  },
  {
   "cell_type": "code",
   "execution_count": 3,
   "id": "ac2ca613",
   "metadata": {},
   "outputs": [],
   "source": [
    "class DataModule(pl.LightningDataModule):\n",
    "    def __init__(self, batch_size, train, val):\n",
    "        super().__init__()\n",
    "        self.batch_size = batch_size\n",
    "        self.dims = (3, 96, 96)\n",
    "        self.num_classes = 1\n",
    "        self.train = train\n",
    "        self.val = val\n",
    "    \n",
    "    def train_dataloader(self):\n",
    "        return DataLoader(self.train, batch_size=self.batch_size, shuffle=True)\n",
    "    \n",
    "    def val_dataloader(self):\n",
    "        return DataLoader(self.val, batch_size=self.batch_size)       "
   ]
  },
  {
   "cell_type": "code",
   "execution_count": 4,
   "id": "0b71d7f4",
   "metadata": {},
   "outputs": [],
   "source": [
    "class ImageEncoder(pl.LightningModule):\n",
    "    def __init__(self, input_shape, num_classes, learning_rate=2e-4):\n",
    "        super().__init__()\n",
    "        \n",
    "        self.save_hyperparameters()\n",
    "        self.learning_rate = learning_rate\n",
    "        \n",
    "        self.encoder = nn.Sequential(\n",
    "            nn.Conv2d(in_channels=3, out_channels=10, kernel_size=5, stride=1),\n",
    "            nn.ReLU(),\n",
    "            nn.Conv2d(in_channels=10, out_channels=20, kernel_size=5, stride=2),\n",
    "            nn.ReLU(),\n",
    "            nn.MaxPool2d(kernel_size=3, stride=1),\n",
    "            nn.ReLU(),\n",
    "            nn.Conv2d(in_channels=20, out_channels=30, kernel_size=5, stride=1),\n",
    "            nn.ReLU(),\n",
    "            nn.Conv2d(in_channels=30, out_channels=40, kernel_size=5, stride=2),\n",
    "            nn.ReLU(),\n",
    "            nn.MaxPool2d(kernel_size=3, stride=1),\n",
    "            nn.ReLU()\n",
    "        )\n",
    "        n_sizes = self._get_conv_output((3,96,96))\n",
    "        \n",
    "        self.dense = nn.Sequential(\n",
    "            nn.Flatten(),\n",
    "            nn.Linear(n_sizes, 1500),\n",
    "            nn.ReLU(),\n",
    "            nn.Linear(1500, 500),\n",
    "            nn.ReLU(),\n",
    "            nn.Linear(500, 50),\n",
    "            nn.ReLU(),\n",
    "            nn.Linear(50, 1)\n",
    "        )\n",
    "        \n",
    "        self.accuracy = torchmetrics.Accuracy(task='binary')\n",
    "    \n",
    "    def forward(self, x):\n",
    "        x = self.encoder(x)\n",
    "        x = self.dense(x)\n",
    "        return torch.sigmoid(x)\n",
    "    \n",
    "    def training_step(self, batch, batch_idx):\n",
    "        x, y = batch\n",
    "        y_hat = self(x)\n",
    "        loss = F.binary_cross_entropy(y_hat, y)\n",
    "        pred = torch.argmax(y_hat, dim=1)\n",
    "        return {\"loss\":loss, 'pred':pred, 'y':y}\n",
    "    \n",
    "    def training_epoch_end(self, outputs):\n",
    "        avg_loss = torch.stack([x['loss'] for x in outputs]).mean()\n",
    "        pred = torch.cat([x['pred'] for x in outputs]).to(device=torch.device('cpu'))\n",
    "        y = torch.cat([x['y'] for x in outputs]).to(torch.int32)\n",
    "        y = torch.squeeze(y)\n",
    "        avg_acc = self.accuracy(pred, y)\n",
    "        self.log(\"train_loss\", avg_loss, prog_bar=True)\n",
    "        self.log(\"train_acc\", avg_acc, prog_bar=True)\n",
    "        wandb.log({'train_loss': avg_loss, 'learning_rate': self.lr_schedulers().get_last_lr()[0], 'train_acc':avg_acc})\n",
    "    \n",
    "    def validation_step(self, batch, batch_idx):\n",
    "        x, y = batch\n",
    "        y_hat = self(x)\n",
    "        pred = torch.argmax(y_hat, dim=1)\n",
    "        val_loss = F.binary_cross_entropy(y_hat, y)\n",
    "        return {'val_loss':val_loss,'pred':pred, 'y':y}\n",
    "    \n",
    "    def validation_epoch_end(self, outputs):\n",
    "        avg_loss = torch.stack([x['val_loss'] for x in outputs]).mean()\n",
    "#         print([x['pred'] for x in outputs])\n",
    "        pred = torch.cat([x['pred'] for x in outputs]).to(device=torch.device('cpu'))\n",
    "#         print([x['y'] for x in outputs])\n",
    "        y = torch.cat([x['y'] for x in outputs]).to(torch.int32)\n",
    "        y = torch.squeeze(y)\n",
    "#         print('pred:', pred, pred.shape)\n",
    "#         print('y:', y, y.shape)\n",
    "        avg_acc = self.accuracy(pred, y)\n",
    "        self.log(\"val_loss\", avg_loss, prog_bar=True)\n",
    "        self.log(\"val_acc\", avg_acc, prog_bar=True)\n",
    "        wandb.log({'val_loss': avg_loss, 'val_acc':avg_acc})\n",
    "        \n",
    "    def configure_optimizers(self):\n",
    "        optimizer = torch.optim.Adam(self.parameters(), lr=self.learning_rate)\n",
    "        scheduler = CosineAnnealingLR(optimizer, T_max=100, eta_min=0.00001)\n",
    "        return [optimizer], [scheduler]\n",
    "    \n",
    "    def _get_conv_output(self, shape):\n",
    "        batch_size = 1\n",
    "        input = torch.autograd.Variable(torch.rand(batch_size, *shape))\n",
    "        output_feat = self.encoder(input) \n",
    "        n_size = output_feat.data.view(batch_size, -1).size(1)\n",
    "        n_size = n_size\n",
    "        return n_size\n",
    "    \n"
   ]
  },
  {
   "cell_type": "code",
   "execution_count": 5,
   "id": "e8eee183",
   "metadata": {},
   "outputs": [],
   "source": [
    "class CancerDataset(Dataset):\n",
    "    def __init__(self, label_dir, img_dir):\n",
    "        self.img_labels = pd.read_csv(label_dir)\n",
    "        self.img_dir = img_dir\n",
    "        self.transform = transforms.ToTensor()\n",
    "    \n",
    "    def __len__(self):\n",
    "        return len(self.img_labels)\n",
    "    \n",
    "    def __getitem__(self, idx):\n",
    "        # label file has two columns: id, label\n",
    "        # to read each images from dir\n",
    "        img_path = self.img_dir + '/'+ self.img_labels.iloc[idx,0] + '.tif'\n",
    "        # read image as numpy array and normalize it\n",
    "        image = Image.open(img_path)\n",
    "        image_array = self.transform(image) / 255.0\n",
    "        \n",
    "        # read label\n",
    "        label = self.img_labels.iloc[idx, 1].astype('float32')\n",
    "        label = torch.Tensor([label])\n",
    "        # return image array and label\n",
    "        return image_array, label"
   ]
  },
  {
   "cell_type": "code",
   "execution_count": 6,
   "id": "650ad227",
   "metadata": {},
   "outputs": [],
   "source": [
    "data = CancerDataset(label_dir='/Users/haeinpark/Downloads/histopathologic-cancer-detection/train_labels.csv',\n",
    "                          img_dir='/Users/haeinpark/Downloads/histopathologic-cancer-detection/train/')"
   ]
  },
  {
   "cell_type": "code",
   "execution_count": 7,
   "id": "27e1440a",
   "metadata": {},
   "outputs": [],
   "source": [
    "train_n = int(len(data) * wandb.config['data_size'] * 0.7)\n",
    "val_n = int(len(data) * wandb.config['data_size'] * 0.3)"
   ]
  },
  {
   "cell_type": "code",
   "execution_count": 8,
   "id": "95e9c3b7",
   "metadata": {},
   "outputs": [
    {
     "data": {
      "text/plain": [
       "(46205, 19802)"
      ]
     },
     "execution_count": 8,
     "metadata": {},
     "output_type": "execute_result"
    }
   ],
   "source": [
    "train_n, val_n"
   ]
  },
  {
   "cell_type": "code",
   "execution_count": 9,
   "id": "4c5475a3",
   "metadata": {},
   "outputs": [],
   "source": [
    "def train_val_dataset(dataset, train_split=0.75, val_split=0.25):\n",
    "    train_idx, val_idx = train_test_split(list(range(len(dataset))), train_size=train_split, test_size=val_split)\n",
    "    datasets = {}\n",
    "    datasets['train'] = Subset(dataset, train_idx)\n",
    "    datasets['val'] = Subset(dataset, val_idx)\n",
    "    return datasets"
   ]
  },
  {
   "cell_type": "code",
   "execution_count": 10,
   "id": "dfaabc88",
   "metadata": {},
   "outputs": [],
   "source": [
    "dataset = train_val_dataset(data, train_split=train_n, val_split=val_n)"
   ]
  },
  {
   "cell_type": "code",
   "execution_count": 11,
   "id": "cbfb0ba8",
   "metadata": {},
   "outputs": [],
   "source": [
    "# train_dataloader = DataLoader(dataset['train'], batch_size=wandb.config['batch_size'])\n",
    "# val_dataloader = DataLoader(dataset['val'], batch_size=wandb.config['batch_size'])"
   ]
  },
  {
   "cell_type": "code",
   "execution_count": 12,
   "id": "4ec421eb",
   "metadata": {
    "scrolled": false
   },
   "outputs": [],
   "source": [
    "dm = DataModule(batch_size=wandb.config['batch_size'], train=dataset['train'], val=dataset['val'])"
   ]
  },
  {
   "cell_type": "code",
   "execution_count": 13,
   "id": "44b07bda",
   "metadata": {
    "scrolled": true
   },
   "outputs": [],
   "source": [
    "im_encoder = ImageEncoder(input_shape=dm.dims, num_classes=dm.num_classes, learning_rate=wandb.config['learning_rate'])"
   ]
  },
  {
   "cell_type": "code",
   "execution_count": 14,
   "id": "0ac74475",
   "metadata": {},
   "outputs": [
    {
     "data": {
      "text/plain": [
       "   | Name       | Type           | Params\n",
       "-----------------------------------------------\n",
       "0  | encoder    | Sequential     | 50.9 K\n",
       "1  | encoder.0  | Conv2d         | 760   \n",
       "2  | encoder.1  | ReLU           | 0     \n",
       "3  | encoder.2  | Conv2d         | 5.0 K \n",
       "4  | encoder.3  | ReLU           | 0     \n",
       "5  | encoder.4  | MaxPool2d      | 0     \n",
       "6  | encoder.5  | ReLU           | 0     \n",
       "7  | encoder.6  | Conv2d         | 15.0 K\n",
       "8  | encoder.7  | ReLU           | 0     \n",
       "9  | encoder.8  | Conv2d         | 30.0 K\n",
       "10 | encoder.9  | ReLU           | 0     \n",
       "11 | encoder.10 | MaxPool2d      | 0     \n",
       "12 | encoder.11 | ReLU           | 0     \n",
       "13 | dense      | Sequential     | 18.1 M\n",
       "14 | dense.0    | Flatten        | 0     \n",
       "15 | dense.1    | Linear         | 17.3 M\n",
       "16 | dense.2    | ReLU           | 0     \n",
       "17 | dense.3    | Linear         | 750 K \n",
       "18 | dense.4    | ReLU           | 0     \n",
       "19 | dense.5    | Linear         | 25.1 K\n",
       "20 | dense.6    | ReLU           | 0     \n",
       "21 | dense.7    | Linear         | 51    \n",
       "22 | accuracy   | BinaryAccuracy | 0     \n",
       "-----------------------------------------------\n",
       "18.2 M    Trainable params\n",
       "0         Non-trainable params\n",
       "18.2 M    Total params\n",
       "72.672    Total estimated model params size (MB)"
      ]
     },
     "execution_count": 14,
     "metadata": {},
     "output_type": "execute_result"
    }
   ],
   "source": [
    "ModelSummary(im_encoder, max_depth=-1)"
   ]
  },
  {
   "cell_type": "code",
   "execution_count": 15,
   "id": "a0b8c0f8",
   "metadata": {},
   "outputs": [],
   "source": [
    "checkpoint_callback = pl.callbacks.ModelCheckpoint(\n",
    "    dirpath='./check_point/', filename='{epoch}-{train_loss:.4f}-{val_loss:.4f}', \n",
    "    monitor=\"val_loss\", mode=\"min\", save_top_k=5\n",
    ")"
   ]
  },
  {
   "cell_type": "code",
   "execution_count": 16,
   "id": "aa4f9d64",
   "metadata": {
    "scrolled": true
   },
   "outputs": [
    {
     "name": "stderr",
     "output_type": "stream",
     "text": [
      "GPU available: False, used: False\n",
      "TPU available: False, using: 0 TPU cores\n",
      "IPU available: False, using: 0 IPUs\n",
      "HPU available: False, using: 0 HPUs\n",
      "/Users/haeinpark/miniconda3/envs/boulder/lib/python3.8/site-packages/pytorch_lightning/trainer/connectors/logger_connector/logger_connector.py:67: UserWarning: Starting from v1.9.0, `tensorboardX` has been removed as a dependency of the `pytorch_lightning` package, due to potential conflicts with other packages in the ML ecosystem. For this reason, `logger=True` will use `CSVLogger` as the default logger, unless the `tensorboard` or `tensorboardX` packages are found. Please `pip install lightning[extra]` or one of them to enable TensorBoard support by default\n",
      "  warning_cache.warn(\n"
     ]
    }
   ],
   "source": [
    "trainer = pl.Trainer(accelerator='cpu',\n",
    "                     devices=1,\n",
    "                    max_epochs=200,\n",
    "                    callbacks=[checkpoint_callback])"
   ]
  },
  {
   "cell_type": "code",
   "execution_count": 17,
   "id": "bb58d98e",
   "metadata": {},
   "outputs": [
    {
     "name": "stderr",
     "output_type": "stream",
     "text": [
      "/Users/haeinpark/miniconda3/envs/boulder/lib/python3.8/site-packages/pytorch_lightning/callbacks/model_checkpoint.py:612: UserWarning: Checkpoint directory /Users/haeinpark/Documents/GitHub/histopathologic-cancer-detection/check_point exists and is not empty.\n",
      "  rank_zero_warn(f\"Checkpoint directory {dirpath} exists and is not empty.\")\n",
      "\n",
      "  | Name     | Type           | Params\n",
      "--------------------------------------------\n",
      "0 | encoder  | Sequential     | 50.9 K\n",
      "1 | dense    | Sequential     | 18.1 M\n",
      "2 | accuracy | BinaryAccuracy | 0     \n",
      "--------------------------------------------\n",
      "18.2 M    Trainable params\n",
      "0         Non-trainable params\n",
      "18.2 M    Total params\n",
      "72.672    Total estimated model params size (MB)\n"
     ]
    },
    {
     "data": {
      "application/vnd.jupyter.widget-view+json": {
       "model_id": "",
       "version_major": 2,
       "version_minor": 0
      },
      "text/plain": [
       "Sanity Checking: 0it [00:00, ?it/s]"
      ]
     },
     "metadata": {},
     "output_type": "display_data"
    },
    {
     "name": "stderr",
     "output_type": "stream",
     "text": [
      "/Users/haeinpark/miniconda3/envs/boulder/lib/python3.8/site-packages/pytorch_lightning/trainer/connectors/data_connector.py:224: PossibleUserWarning: The dataloader, val_dataloader 0, does not have many workers which may be a bottleneck. Consider increasing the value of the `num_workers` argument` (try 8 which is the number of cpus on this machine) in the `DataLoader` init to improve performance.\n",
      "  rank_zero_warn(\n",
      "/Users/haeinpark/miniconda3/envs/boulder/lib/python3.8/site-packages/pytorch_lightning/trainer/connectors/data_connector.py:224: PossibleUserWarning: The dataloader, train_dataloader, does not have many workers which may be a bottleneck. Consider increasing the value of the `num_workers` argument` (try 8 which is the number of cpus on this machine) in the `DataLoader` init to improve performance.\n",
      "  rank_zero_warn(\n"
     ]
    },
    {
     "data": {
      "application/vnd.jupyter.widget-view+json": {
       "model_id": "8ff5db46e5114edcabc59f41d6141417",
       "version_major": 2,
       "version_minor": 0
      },
      "text/plain": [
       "Training: 0it [00:00, ?it/s]"
      ]
     },
     "metadata": {},
     "output_type": "display_data"
    },
    {
     "data": {
      "application/vnd.jupyter.widget-view+json": {
       "model_id": "",
       "version_major": 2,
       "version_minor": 0
      },
      "text/plain": [
       "Validation: 0it [00:00, ?it/s]"
      ]
     },
     "metadata": {},
     "output_type": "display_data"
    },
    {
     "data": {
      "application/vnd.jupyter.widget-view+json": {
       "model_id": "",
       "version_major": 2,
       "version_minor": 0
      },
      "text/plain": [
       "Validation: 0it [00:00, ?it/s]"
      ]
     },
     "metadata": {},
     "output_type": "display_data"
    },
    {
     "data": {
      "application/vnd.jupyter.widget-view+json": {
       "model_id": "",
       "version_major": 2,
       "version_minor": 0
      },
      "text/plain": [
       "Validation: 0it [00:00, ?it/s]"
      ]
     },
     "metadata": {},
     "output_type": "display_data"
    },
    {
     "data": {
      "application/vnd.jupyter.widget-view+json": {
       "model_id": "",
       "version_major": 2,
       "version_minor": 0
      },
      "text/plain": [
       "Validation: 0it [00:00, ?it/s]"
      ]
     },
     "metadata": {},
     "output_type": "display_data"
    },
    {
     "data": {
      "application/vnd.jupyter.widget-view+json": {
       "model_id": "",
       "version_major": 2,
       "version_minor": 0
      },
      "text/plain": [
       "Validation: 0it [00:00, ?it/s]"
      ]
     },
     "metadata": {},
     "output_type": "display_data"
    },
    {
     "name": "stderr",
     "output_type": "stream",
     "text": [
      "/Users/haeinpark/miniconda3/envs/boulder/lib/python3.8/site-packages/pytorch_lightning/trainer/call.py:48: UserWarning: Detected KeyboardInterrupt, attempting graceful shutdown...\n",
      "  rank_zero_warn(\"Detected KeyboardInterrupt, attempting graceful shutdown...\")\n"
     ]
    }
   ],
   "source": [
    "trainer.fit(im_encoder, dm)"
   ]
  }
 ],
 "metadata": {
  "kernelspec": {
   "display_name": "Python 3 (ipykernel)",
   "language": "python",
   "name": "python3"
  },
  "language_info": {
   "codemirror_mode": {
    "name": "ipython",
    "version": 3
   },
   "file_extension": ".py",
   "mimetype": "text/x-python",
   "name": "python",
   "nbconvert_exporter": "python",
   "pygments_lexer": "ipython3",
   "version": "3.8.16"
  },
  "varInspector": {
   "cols": {
    "lenName": 16,
    "lenType": 16,
    "lenVar": 40
   },
   "kernels_config": {
    "python": {
     "delete_cmd_postfix": "",
     "delete_cmd_prefix": "del ",
     "library": "var_list.py",
     "varRefreshCmd": "print(var_dic_list())"
    },
    "r": {
     "delete_cmd_postfix": ") ",
     "delete_cmd_prefix": "rm(",
     "library": "var_list.r",
     "varRefreshCmd": "cat(var_dic_list()) "
    }
   },
   "types_to_exclude": [
    "module",
    "function",
    "builtin_function_or_method",
    "instance",
    "_Feature"
   ],
   "window_display": false
  }
 },
 "nbformat": 4,
 "nbformat_minor": 5
}
